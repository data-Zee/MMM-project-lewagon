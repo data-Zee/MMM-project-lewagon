{
 "cells": [
  {
   "cell_type": "code",
   "execution_count": 1,
   "metadata": {},
   "outputs": [],
   "source": [
    "import pandas as pd\n",
    "import numpy as np\n",
    "from sklearn.linear_model import LinearRegression\n",
    "from sklearn.model_selection import cross_val_score, TimeSeriesSplit, cross_validate"
   ]
  },
  {
   "cell_type": "code",
   "execution_count": 2,
   "metadata": {},
   "outputs": [
    {
     "data": {
      "text/plain": [
       "array(['Germany', 'Austria', nan, 'Netherlands', 'Italy'], dtype=object)"
      ]
     },
     "execution_count": 2,
     "metadata": {},
     "output_type": "execute_result"
    }
   ],
   "source": [
    "sales = pd.read_csv('../raw_data/sales_data.csv')\n",
    "sales['shipping_country'].unique()"
   ]
  },
  {
   "cell_type": "code",
   "execution_count": 46,
   "metadata": {},
   "outputs": [
    {
     "data": {
      "text/plain": [
       "(880, 9)"
      ]
     },
     "execution_count": 46,
     "metadata": {},
     "output_type": "execute_result"
    }
   ],
   "source": [
    "df = pd.read_csv('../raw_data/df.csv')\n",
    "df = df.drop(columns='Unnamed: 0')\n",
    "df.shape"
   ]
  },
  {
   "cell_type": "code",
   "execution_count": 47,
   "metadata": {},
   "outputs": [
    {
     "name": "stdout",
     "output_type": "stream",
     "text": [
      "<class 'pandas.core.frame.DataFrame'>\n",
      "RangeIndex: 880 entries, 0 to 879\n",
      "Data columns (total 9 columns):\n",
      " #   Column              Non-Null Count  Dtype  \n",
      "---  ------              --------------  -----  \n",
      " 0   Day                 880 non-null    object \n",
      " 1   orders              880 non-null    float64\n",
      " 2   total_sales         880 non-null    float64\n",
      " 3   fb_costs            880 non-null    float64\n",
      " 4   fb_impressions      880 non-null    int64  \n",
      " 5   fb_clicks           880 non-null    int64  \n",
      " 6   google_costs        880 non-null    float64\n",
      " 7   google_impressions  880 non-null    int64  \n",
      " 8   google_clicks       880 non-null    int64  \n",
      "dtypes: float64(4), int64(4), object(1)\n",
      "memory usage: 62.0+ KB\n"
     ]
    },
    {
     "data": {
      "text/plain": [
       "Day                   0\n",
       "orders                0\n",
       "total_sales           0\n",
       "fb_costs              0\n",
       "fb_impressions        0\n",
       "fb_clicks             0\n",
       "google_costs          0\n",
       "google_impressions    0\n",
       "google_clicks         0\n",
       "dtype: int64"
      ]
     },
     "execution_count": 47,
     "metadata": {},
     "output_type": "execute_result"
    }
   ],
   "source": [
    "df.info()\n",
    "df.nunique()\n",
    "df.duplicated().sum()\n",
    "df.isna().sum()"
   ]
  },
  {
   "cell_type": "code",
   "execution_count": 48,
   "metadata": {},
   "outputs": [
    {
     "data": {
      "text/html": [
       "<div>\n",
       "<style scoped>\n",
       "    .dataframe tbody tr th:only-of-type {\n",
       "        vertical-align: middle;\n",
       "    }\n",
       "\n",
       "    .dataframe tbody tr th {\n",
       "        vertical-align: top;\n",
       "    }\n",
       "\n",
       "    .dataframe thead th {\n",
       "        text-align: right;\n",
       "    }\n",
       "</style>\n",
       "<table border=\"1\" class=\"dataframe\">\n",
       "  <thead>\n",
       "    <tr style=\"text-align: right;\">\n",
       "      <th></th>\n",
       "      <th>Day</th>\n",
       "      <th>orders</th>\n",
       "      <th>total_sales</th>\n",
       "      <th>fb_costs</th>\n",
       "      <th>fb_impressions</th>\n",
       "      <th>fb_clicks</th>\n",
       "      <th>google_costs</th>\n",
       "      <th>google_impressions</th>\n",
       "      <th>google_clicks</th>\n",
       "    </tr>\n",
       "  </thead>\n",
       "  <tbody>\n",
       "    <tr>\n",
       "      <th>0</th>\n",
       "      <td>2021-07-01</td>\n",
       "      <td>10.0</td>\n",
       "      <td>414.85</td>\n",
       "      <td>257.01</td>\n",
       "      <td>36200</td>\n",
       "      <td>129</td>\n",
       "      <td>1.17</td>\n",
       "      <td>39</td>\n",
       "      <td>20</td>\n",
       "    </tr>\n",
       "    <tr>\n",
       "      <th>1</th>\n",
       "      <td>2021-07-02</td>\n",
       "      <td>6.0</td>\n",
       "      <td>229.95</td>\n",
       "      <td>250.30</td>\n",
       "      <td>33040</td>\n",
       "      <td>150</td>\n",
       "      <td>0.84</td>\n",
       "      <td>14</td>\n",
       "      <td>7</td>\n",
       "    </tr>\n",
       "    <tr>\n",
       "      <th>2</th>\n",
       "      <td>2021-07-03</td>\n",
       "      <td>10.0</td>\n",
       "      <td>459.89</td>\n",
       "      <td>248.59</td>\n",
       "      <td>33031</td>\n",
       "      <td>129</td>\n",
       "      <td>0.72</td>\n",
       "      <td>12</td>\n",
       "      <td>6</td>\n",
       "    </tr>\n",
       "    <tr>\n",
       "      <th>3</th>\n",
       "      <td>2021-07-04</td>\n",
       "      <td>17.0</td>\n",
       "      <td>508.36</td>\n",
       "      <td>258.05</td>\n",
       "      <td>37463</td>\n",
       "      <td>119</td>\n",
       "      <td>0.07</td>\n",
       "      <td>13</td>\n",
       "      <td>5</td>\n",
       "    </tr>\n",
       "    <tr>\n",
       "      <th>4</th>\n",
       "      <td>2021-07-05</td>\n",
       "      <td>13.0</td>\n",
       "      <td>399.88</td>\n",
       "      <td>257.47</td>\n",
       "      <td>35963</td>\n",
       "      <td>142</td>\n",
       "      <td>0.38</td>\n",
       "      <td>34</td>\n",
       "      <td>16</td>\n",
       "    </tr>\n",
       "  </tbody>\n",
       "</table>\n",
       "</div>"
      ],
      "text/plain": [
       "          Day  orders  total_sales  fb_costs  fb_impressions  fb_clicks  \\\n",
       "0  2021-07-01    10.0       414.85    257.01           36200        129   \n",
       "1  2021-07-02     6.0       229.95    250.30           33040        150   \n",
       "2  2021-07-03    10.0       459.89    248.59           33031        129   \n",
       "3  2021-07-04    17.0       508.36    258.05           37463        119   \n",
       "4  2021-07-05    13.0       399.88    257.47           35963        142   \n",
       "\n",
       "   google_costs  google_impressions  google_clicks  \n",
       "0          1.17                  39             20  \n",
       "1          0.84                  14              7  \n",
       "2          0.72                  12              6  \n",
       "3          0.07                  13              5  \n",
       "4          0.38                  34             16  "
      ]
     },
     "execution_count": 48,
     "metadata": {},
     "output_type": "execute_result"
    }
   ],
   "source": [
    "df.head()"
   ]
  },
  {
   "cell_type": "code",
   "execution_count": 6,
   "metadata": {},
   "outputs": [],
   "source": [
    "df['Day'] = pd.to_datetime(df['Day'])\n",
    "df.set_index('Day', inplace=True)"
   ]
  },
  {
   "cell_type": "code",
   "execution_count": 7,
   "metadata": {},
   "outputs": [
    {
     "data": {
      "text/html": [
       "<div>\n",
       "<style scoped>\n",
       "    .dataframe tbody tr th:only-of-type {\n",
       "        vertical-align: middle;\n",
       "    }\n",
       "\n",
       "    .dataframe tbody tr th {\n",
       "        vertical-align: top;\n",
       "    }\n",
       "\n",
       "    .dataframe thead th {\n",
       "        text-align: right;\n",
       "    }\n",
       "</style>\n",
       "<table border=\"1\" class=\"dataframe\">\n",
       "  <thead>\n",
       "    <tr style=\"text-align: right;\">\n",
       "      <th></th>\n",
       "      <th>orders</th>\n",
       "      <th>total_sales</th>\n",
       "      <th>fb_costs</th>\n",
       "      <th>fb_impressions</th>\n",
       "      <th>fb_clicks</th>\n",
       "      <th>google_costs</th>\n",
       "      <th>google_impressions</th>\n",
       "      <th>google_clicks</th>\n",
       "    </tr>\n",
       "    <tr>\n",
       "      <th>Day</th>\n",
       "      <th></th>\n",
       "      <th></th>\n",
       "      <th></th>\n",
       "      <th></th>\n",
       "      <th></th>\n",
       "      <th></th>\n",
       "      <th></th>\n",
       "      <th></th>\n",
       "    </tr>\n",
       "  </thead>\n",
       "  <tbody>\n",
       "    <tr>\n",
       "      <th>2021-07-01</th>\n",
       "      <td>10.0</td>\n",
       "      <td>414.85</td>\n",
       "      <td>257.01</td>\n",
       "      <td>36200</td>\n",
       "      <td>129</td>\n",
       "      <td>1.17</td>\n",
       "      <td>39</td>\n",
       "      <td>20</td>\n",
       "    </tr>\n",
       "    <tr>\n",
       "      <th>2021-07-02</th>\n",
       "      <td>6.0</td>\n",
       "      <td>229.95</td>\n",
       "      <td>250.30</td>\n",
       "      <td>33040</td>\n",
       "      <td>150</td>\n",
       "      <td>0.84</td>\n",
       "      <td>14</td>\n",
       "      <td>7</td>\n",
       "    </tr>\n",
       "    <tr>\n",
       "      <th>2021-07-03</th>\n",
       "      <td>10.0</td>\n",
       "      <td>459.89</td>\n",
       "      <td>248.59</td>\n",
       "      <td>33031</td>\n",
       "      <td>129</td>\n",
       "      <td>0.72</td>\n",
       "      <td>12</td>\n",
       "      <td>6</td>\n",
       "    </tr>\n",
       "    <tr>\n",
       "      <th>2021-07-04</th>\n",
       "      <td>17.0</td>\n",
       "      <td>508.36</td>\n",
       "      <td>258.05</td>\n",
       "      <td>37463</td>\n",
       "      <td>119</td>\n",
       "      <td>0.07</td>\n",
       "      <td>13</td>\n",
       "      <td>5</td>\n",
       "    </tr>\n",
       "    <tr>\n",
       "      <th>2021-07-05</th>\n",
       "      <td>13.0</td>\n",
       "      <td>399.88</td>\n",
       "      <td>257.47</td>\n",
       "      <td>35963</td>\n",
       "      <td>142</td>\n",
       "      <td>0.38</td>\n",
       "      <td>34</td>\n",
       "      <td>16</td>\n",
       "    </tr>\n",
       "  </tbody>\n",
       "</table>\n",
       "</div>"
      ],
      "text/plain": [
       "            orders  total_sales  fb_costs  fb_impressions  fb_clicks  \\\n",
       "Day                                                                    \n",
       "2021-07-01    10.0       414.85    257.01           36200        129   \n",
       "2021-07-02     6.0       229.95    250.30           33040        150   \n",
       "2021-07-03    10.0       459.89    248.59           33031        129   \n",
       "2021-07-04    17.0       508.36    258.05           37463        119   \n",
       "2021-07-05    13.0       399.88    257.47           35963        142   \n",
       "\n",
       "            google_costs  google_impressions  google_clicks  \n",
       "Day                                                          \n",
       "2021-07-01          1.17                  39             20  \n",
       "2021-07-02          0.84                  14              7  \n",
       "2021-07-03          0.72                  12              6  \n",
       "2021-07-04          0.07                  13              5  \n",
       "2021-07-05          0.38                  34             16  "
      ]
     },
     "execution_count": 7,
     "metadata": {},
     "output_type": "execute_result"
    }
   ],
   "source": [
    "df.head()"
   ]
  },
  {
   "cell_type": "code",
   "execution_count": 8,
   "metadata": {},
   "outputs": [
    {
     "data": {
      "text/plain": [
       "pandas.core.indexes.datetimes.DatetimeIndex"
      ]
     },
     "execution_count": 8,
     "metadata": {},
     "output_type": "execute_result"
    }
   ],
   "source": [
    "isinstance(df.index, pd.DatetimeIndex)\n",
    "type(df.index)"
   ]
  },
  {
   "cell_type": "markdown",
   "metadata": {},
   "source": [
    "# All data"
   ]
  },
  {
   "cell_type": "code",
   "execution_count": 9,
   "metadata": {},
   "outputs": [],
   "source": [
    "google_data = ['google_impressions', 'google_clicks', 'google_costs']\n",
    "google_targets = ['google_clicks', 'google_impressions']\n",
    "\n",
    "fb_data = ['fb_impressions', 'fb_clicks', 'fb_costs']\n",
    "fb_targets = ['fb_impressions', 'fb_clicks']\n",
    "\n",
    "targets = ['total_sales', 'orders']"
   ]
  },
  {
   "cell_type": "code",
   "execution_count": 10,
   "metadata": {},
   "outputs": [],
   "source": [
    "X = df.drop(columns = ['total_sales', 'orders', 'fb_impressions', 'fb_clicks', 'google_impressions', 'google_clicks'])\n",
    "y = df[targets]\n",
    "y_sales = df['total_sales']\n",
    "y_orders = df['orders']"
   ]
  },
  {
   "cell_type": "code",
   "execution_count": 11,
   "metadata": {},
   "outputs": [
    {
     "data": {
      "text/html": [
       "<div>\n",
       "<style scoped>\n",
       "    .dataframe tbody tr th:only-of-type {\n",
       "        vertical-align: middle;\n",
       "    }\n",
       "\n",
       "    .dataframe tbody tr th {\n",
       "        vertical-align: top;\n",
       "    }\n",
       "\n",
       "    .dataframe thead th {\n",
       "        text-align: right;\n",
       "    }\n",
       "</style>\n",
       "<table border=\"1\" class=\"dataframe\">\n",
       "  <thead>\n",
       "    <tr style=\"text-align: right;\">\n",
       "      <th></th>\n",
       "      <th>orders</th>\n",
       "      <th>total_sales</th>\n",
       "      <th>fb_costs</th>\n",
       "      <th>fb_impressions</th>\n",
       "      <th>fb_clicks</th>\n",
       "      <th>google_costs</th>\n",
       "      <th>google_impressions</th>\n",
       "      <th>google_clicks</th>\n",
       "    </tr>\n",
       "    <tr>\n",
       "      <th>Day</th>\n",
       "      <th></th>\n",
       "      <th></th>\n",
       "      <th></th>\n",
       "      <th></th>\n",
       "      <th></th>\n",
       "      <th></th>\n",
       "      <th></th>\n",
       "      <th></th>\n",
       "    </tr>\n",
       "  </thead>\n",
       "  <tbody>\n",
       "    <tr>\n",
       "      <th>2021-07-01</th>\n",
       "      <td>10.0</td>\n",
       "      <td>414.85</td>\n",
       "      <td>257.01</td>\n",
       "      <td>36200</td>\n",
       "      <td>129</td>\n",
       "      <td>1.17</td>\n",
       "      <td>39</td>\n",
       "      <td>20</td>\n",
       "    </tr>\n",
       "    <tr>\n",
       "      <th>2021-07-02</th>\n",
       "      <td>6.0</td>\n",
       "      <td>229.95</td>\n",
       "      <td>250.30</td>\n",
       "      <td>33040</td>\n",
       "      <td>150</td>\n",
       "      <td>0.84</td>\n",
       "      <td>14</td>\n",
       "      <td>7</td>\n",
       "    </tr>\n",
       "    <tr>\n",
       "      <th>2021-07-03</th>\n",
       "      <td>10.0</td>\n",
       "      <td>459.89</td>\n",
       "      <td>248.59</td>\n",
       "      <td>33031</td>\n",
       "      <td>129</td>\n",
       "      <td>0.72</td>\n",
       "      <td>12</td>\n",
       "      <td>6</td>\n",
       "    </tr>\n",
       "    <tr>\n",
       "      <th>2021-07-04</th>\n",
       "      <td>17.0</td>\n",
       "      <td>508.36</td>\n",
       "      <td>258.05</td>\n",
       "      <td>37463</td>\n",
       "      <td>119</td>\n",
       "      <td>0.07</td>\n",
       "      <td>13</td>\n",
       "      <td>5</td>\n",
       "    </tr>\n",
       "    <tr>\n",
       "      <th>2021-07-05</th>\n",
       "      <td>13.0</td>\n",
       "      <td>399.88</td>\n",
       "      <td>257.47</td>\n",
       "      <td>35963</td>\n",
       "      <td>142</td>\n",
       "      <td>0.38</td>\n",
       "      <td>34</td>\n",
       "      <td>16</td>\n",
       "    </tr>\n",
       "  </tbody>\n",
       "</table>\n",
       "</div>"
      ],
      "text/plain": [
       "            orders  total_sales  fb_costs  fb_impressions  fb_clicks  \\\n",
       "Day                                                                    \n",
       "2021-07-01    10.0       414.85    257.01           36200        129   \n",
       "2021-07-02     6.0       229.95    250.30           33040        150   \n",
       "2021-07-03    10.0       459.89    248.59           33031        129   \n",
       "2021-07-04    17.0       508.36    258.05           37463        119   \n",
       "2021-07-05    13.0       399.88    257.47           35963        142   \n",
       "\n",
       "            google_costs  google_impressions  google_clicks  \n",
       "Day                                                          \n",
       "2021-07-01          1.17                  39             20  \n",
       "2021-07-02          0.84                  14              7  \n",
       "2021-07-03          0.72                  12              6  \n",
       "2021-07-04          0.07                  13              5  \n",
       "2021-07-05          0.38                  34             16  "
      ]
     },
     "execution_count": 11,
     "metadata": {},
     "output_type": "execute_result"
    }
   ],
   "source": [
    "df.head()"
   ]
  },
  {
   "cell_type": "code",
   "execution_count": 12,
   "metadata": {},
   "outputs": [
    {
     "data": {
      "text/html": [
       "<div>\n",
       "<style scoped>\n",
       "    .dataframe tbody tr th:only-of-type {\n",
       "        vertical-align: middle;\n",
       "    }\n",
       "\n",
       "    .dataframe tbody tr th {\n",
       "        vertical-align: top;\n",
       "    }\n",
       "\n",
       "    .dataframe thead th {\n",
       "        text-align: right;\n",
       "    }\n",
       "</style>\n",
       "<table border=\"1\" class=\"dataframe\">\n",
       "  <thead>\n",
       "    <tr style=\"text-align: right;\">\n",
       "      <th></th>\n",
       "      <th>fb_costs</th>\n",
       "      <th>google_costs</th>\n",
       "    </tr>\n",
       "    <tr>\n",
       "      <th>Day</th>\n",
       "      <th></th>\n",
       "      <th></th>\n",
       "    </tr>\n",
       "  </thead>\n",
       "  <tbody>\n",
       "    <tr>\n",
       "      <th>2021-07-01</th>\n",
       "      <td>257.01</td>\n",
       "      <td>1.17</td>\n",
       "    </tr>\n",
       "    <tr>\n",
       "      <th>2021-07-02</th>\n",
       "      <td>250.30</td>\n",
       "      <td>0.84</td>\n",
       "    </tr>\n",
       "    <tr>\n",
       "      <th>2021-07-03</th>\n",
       "      <td>248.59</td>\n",
       "      <td>0.72</td>\n",
       "    </tr>\n",
       "    <tr>\n",
       "      <th>2021-07-04</th>\n",
       "      <td>258.05</td>\n",
       "      <td>0.07</td>\n",
       "    </tr>\n",
       "    <tr>\n",
       "      <th>2021-07-05</th>\n",
       "      <td>257.47</td>\n",
       "      <td>0.38</td>\n",
       "    </tr>\n",
       "  </tbody>\n",
       "</table>\n",
       "</div>"
      ],
      "text/plain": [
       "            fb_costs  google_costs\n",
       "Day                               \n",
       "2021-07-01    257.01          1.17\n",
       "2021-07-02    250.30          0.84\n",
       "2021-07-03    248.59          0.72\n",
       "2021-07-04    258.05          0.07\n",
       "2021-07-05    257.47          0.38"
      ]
     },
     "execution_count": 12,
     "metadata": {},
     "output_type": "execute_result"
    }
   ],
   "source": [
    "X.head()"
   ]
  },
  {
   "cell_type": "code",
   "execution_count": 13,
   "metadata": {},
   "outputs": [],
   "source": [
    "lr = LinearRegression()"
   ]
  },
  {
   "cell_type": "code",
   "execution_count": 14,
   "metadata": {},
   "outputs": [
    {
     "data": {
      "text/plain": [
       "{'fit_time': array([0.00851107, 0.00193286, 0.00188994, 0.00199485, 0.00166988]),\n",
       " 'score_time': array([0.00185394, 0.00107431, 0.00106025, 0.00106812, 0.00102401]),\n",
       " 'test_score': array([-1.83372775,  0.4297462 ,  0.37534817, -0.09666166,  0.75541467])}"
      ]
     },
     "execution_count": 14,
     "metadata": {},
     "output_type": "execute_result"
    }
   ],
   "source": [
    "cross_validate(lr, X, y_sales, cv=TimeSeriesSplit())"
   ]
  },
  {
   "cell_type": "code",
   "execution_count": 15,
   "metadata": {},
   "outputs": [
    {
     "data": {
      "text/plain": [
       "'Coefficients: [1.42769386 9.72364977]'"
      ]
     },
     "execution_count": 15,
     "metadata": {},
     "output_type": "execute_result"
    }
   ],
   "source": [
    "lr.fit(X, y_sales) # refit the model with the complete dataset \n",
    "f\"Coefficients: {lr.coef_}\""
   ]
  },
  {
   "cell_type": "code",
   "execution_count": 16,
   "metadata": {},
   "outputs": [
    {
     "data": {
      "text/plain": [
       "'Intercept: -55.4211134245254'"
      ]
     },
     "execution_count": 16,
     "metadata": {},
     "output_type": "execute_result"
    }
   ],
   "source": [
    "f\"Intercept: {lr.intercept_}\""
   ]
  },
  {
   "cell_type": "code",
   "execution_count": 17,
   "metadata": {},
   "outputs": [
    {
     "data": {
      "text/html": [
       "<div>\n",
       "<style scoped>\n",
       "    .dataframe tbody tr th:only-of-type {\n",
       "        vertical-align: middle;\n",
       "    }\n",
       "\n",
       "    .dataframe tbody tr th {\n",
       "        vertical-align: top;\n",
       "    }\n",
       "\n",
       "    .dataframe thead th {\n",
       "        text-align: right;\n",
       "    }\n",
       "</style>\n",
       "<table border=\"1\" class=\"dataframe\">\n",
       "  <thead>\n",
       "    <tr style=\"text-align: right;\">\n",
       "      <th></th>\n",
       "      <th>orders</th>\n",
       "      <th>total_sales</th>\n",
       "      <th>fb_costs</th>\n",
       "      <th>fb_impressions</th>\n",
       "      <th>fb_clicks</th>\n",
       "      <th>google_costs</th>\n",
       "      <th>google_impressions</th>\n",
       "      <th>google_clicks</th>\n",
       "    </tr>\n",
       "    <tr>\n",
       "      <th>Day</th>\n",
       "      <th></th>\n",
       "      <th></th>\n",
       "      <th></th>\n",
       "      <th></th>\n",
       "      <th></th>\n",
       "      <th></th>\n",
       "      <th></th>\n",
       "      <th></th>\n",
       "    </tr>\n",
       "  </thead>\n",
       "  <tbody>\n",
       "    <tr>\n",
       "      <th>2021-07-01</th>\n",
       "      <td>10.0</td>\n",
       "      <td>414.85</td>\n",
       "      <td>257.01</td>\n",
       "      <td>36200</td>\n",
       "      <td>129</td>\n",
       "      <td>1.17</td>\n",
       "      <td>39</td>\n",
       "      <td>20</td>\n",
       "    </tr>\n",
       "    <tr>\n",
       "      <th>2021-07-02</th>\n",
       "      <td>6.0</td>\n",
       "      <td>229.95</td>\n",
       "      <td>250.30</td>\n",
       "      <td>33040</td>\n",
       "      <td>150</td>\n",
       "      <td>0.84</td>\n",
       "      <td>14</td>\n",
       "      <td>7</td>\n",
       "    </tr>\n",
       "    <tr>\n",
       "      <th>2021-07-03</th>\n",
       "      <td>10.0</td>\n",
       "      <td>459.89</td>\n",
       "      <td>248.59</td>\n",
       "      <td>33031</td>\n",
       "      <td>129</td>\n",
       "      <td>0.72</td>\n",
       "      <td>12</td>\n",
       "      <td>6</td>\n",
       "    </tr>\n",
       "    <tr>\n",
       "      <th>2021-07-04</th>\n",
       "      <td>17.0</td>\n",
       "      <td>508.36</td>\n",
       "      <td>258.05</td>\n",
       "      <td>37463</td>\n",
       "      <td>119</td>\n",
       "      <td>0.07</td>\n",
       "      <td>13</td>\n",
       "      <td>5</td>\n",
       "    </tr>\n",
       "    <tr>\n",
       "      <th>2021-07-05</th>\n",
       "      <td>13.0</td>\n",
       "      <td>399.88</td>\n",
       "      <td>257.47</td>\n",
       "      <td>35963</td>\n",
       "      <td>142</td>\n",
       "      <td>0.38</td>\n",
       "      <td>34</td>\n",
       "      <td>16</td>\n",
       "    </tr>\n",
       "  </tbody>\n",
       "</table>\n",
       "</div>"
      ],
      "text/plain": [
       "            orders  total_sales  fb_costs  fb_impressions  fb_clicks  \\\n",
       "Day                                                                    \n",
       "2021-07-01    10.0       414.85    257.01           36200        129   \n",
       "2021-07-02     6.0       229.95    250.30           33040        150   \n",
       "2021-07-03    10.0       459.89    248.59           33031        129   \n",
       "2021-07-04    17.0       508.36    258.05           37463        119   \n",
       "2021-07-05    13.0       399.88    257.47           35963        142   \n",
       "\n",
       "            google_costs  google_impressions  google_clicks  \n",
       "Day                                                          \n",
       "2021-07-01          1.17                  39             20  \n",
       "2021-07-02          0.84                  14              7  \n",
       "2021-07-03          0.72                  12              6  \n",
       "2021-07-04          0.07                  13              5  \n",
       "2021-07-05          0.38                  34             16  "
      ]
     },
     "execution_count": 17,
     "metadata": {},
     "output_type": "execute_result"
    }
   ],
   "source": [
    "df.head()"
   ]
  },
  {
   "cell_type": "markdown",
   "metadata": {},
   "source": [
    "# FB data"
   ]
  },
  {
   "cell_type": "code",
   "execution_count": 18,
   "metadata": {},
   "outputs": [],
   "source": [
    "df_fb = df.drop(columns = google_data)\n",
    "X_fb = df_fb.drop(columns = fb_targets + targets)\n",
    "y_fb = df[fb_targets + targets]"
   ]
  },
  {
   "cell_type": "markdown",
   "metadata": {},
   "source": [
    "# Google data"
   ]
  },
  {
   "cell_type": "code",
   "execution_count": 19,
   "metadata": {},
   "outputs": [],
   "source": [
    "df_google = df.drop(columns = fb_data)\n",
    "X_google = df_google.drop(columns = google_targets + targets)\n",
    "y_google = df[google_targets + targets]"
   ]
  },
  {
   "cell_type": "code",
   "execution_count": 20,
   "metadata": {},
   "outputs": [
    {
     "data": {
      "text/html": [
       "<div>\n",
       "<style scoped>\n",
       "    .dataframe tbody tr th:only-of-type {\n",
       "        vertical-align: middle;\n",
       "    }\n",
       "\n",
       "    .dataframe tbody tr th {\n",
       "        vertical-align: top;\n",
       "    }\n",
       "\n",
       "    .dataframe thead th {\n",
       "        text-align: right;\n",
       "    }\n",
       "</style>\n",
       "<table border=\"1\" class=\"dataframe\">\n",
       "  <thead>\n",
       "    <tr style=\"text-align: right;\">\n",
       "      <th></th>\n",
       "      <th>fb_impressions</th>\n",
       "      <th>fb_clicks</th>\n",
       "      <th>total_sales</th>\n",
       "      <th>orders</th>\n",
       "    </tr>\n",
       "    <tr>\n",
       "      <th>Day</th>\n",
       "      <th></th>\n",
       "      <th></th>\n",
       "      <th></th>\n",
       "      <th></th>\n",
       "    </tr>\n",
       "  </thead>\n",
       "  <tbody>\n",
       "    <tr>\n",
       "      <th>2021-07-01</th>\n",
       "      <td>36200</td>\n",
       "      <td>129</td>\n",
       "      <td>414.85</td>\n",
       "      <td>10.0</td>\n",
       "    </tr>\n",
       "    <tr>\n",
       "      <th>2021-07-02</th>\n",
       "      <td>33040</td>\n",
       "      <td>150</td>\n",
       "      <td>229.95</td>\n",
       "      <td>6.0</td>\n",
       "    </tr>\n",
       "    <tr>\n",
       "      <th>2021-07-03</th>\n",
       "      <td>33031</td>\n",
       "      <td>129</td>\n",
       "      <td>459.89</td>\n",
       "      <td>10.0</td>\n",
       "    </tr>\n",
       "    <tr>\n",
       "      <th>2021-07-04</th>\n",
       "      <td>37463</td>\n",
       "      <td>119</td>\n",
       "      <td>508.36</td>\n",
       "      <td>17.0</td>\n",
       "    </tr>\n",
       "    <tr>\n",
       "      <th>2021-07-05</th>\n",
       "      <td>35963</td>\n",
       "      <td>142</td>\n",
       "      <td>399.88</td>\n",
       "      <td>13.0</td>\n",
       "    </tr>\n",
       "    <tr>\n",
       "      <th>...</th>\n",
       "      <td>...</td>\n",
       "      <td>...</td>\n",
       "      <td>...</td>\n",
       "      <td>...</td>\n",
       "    </tr>\n",
       "    <tr>\n",
       "      <th>2020-07-29</th>\n",
       "      <td>64296</td>\n",
       "      <td>460</td>\n",
       "      <td>0.00</td>\n",
       "      <td>0.0</td>\n",
       "    </tr>\n",
       "    <tr>\n",
       "      <th>2020-07-28</th>\n",
       "      <td>59499</td>\n",
       "      <td>386</td>\n",
       "      <td>0.00</td>\n",
       "      <td>0.0</td>\n",
       "    </tr>\n",
       "    <tr>\n",
       "      <th>2020-07-27</th>\n",
       "      <td>112787</td>\n",
       "      <td>770</td>\n",
       "      <td>0.00</td>\n",
       "      <td>0.0</td>\n",
       "    </tr>\n",
       "    <tr>\n",
       "      <th>2020-07-26</th>\n",
       "      <td>145720</td>\n",
       "      <td>1003</td>\n",
       "      <td>0.00</td>\n",
       "      <td>0.0</td>\n",
       "    </tr>\n",
       "    <tr>\n",
       "      <th>2020-07-25</th>\n",
       "      <td>132626</td>\n",
       "      <td>928</td>\n",
       "      <td>0.00</td>\n",
       "      <td>0.0</td>\n",
       "    </tr>\n",
       "  </tbody>\n",
       "</table>\n",
       "<p>880 rows × 4 columns</p>\n",
       "</div>"
      ],
      "text/plain": [
       "            fb_impressions  fb_clicks  total_sales  orders\n",
       "Day                                                       \n",
       "2021-07-01           36200        129       414.85    10.0\n",
       "2021-07-02           33040        150       229.95     6.0\n",
       "2021-07-03           33031        129       459.89    10.0\n",
       "2021-07-04           37463        119       508.36    17.0\n",
       "2021-07-05           35963        142       399.88    13.0\n",
       "...                    ...        ...          ...     ...\n",
       "2020-07-29           64296        460         0.00     0.0\n",
       "2020-07-28           59499        386         0.00     0.0\n",
       "2020-07-27          112787        770         0.00     0.0\n",
       "2020-07-26          145720       1003         0.00     0.0\n",
       "2020-07-25          132626        928         0.00     0.0\n",
       "\n",
       "[880 rows x 4 columns]"
      ]
     },
     "execution_count": 20,
     "metadata": {},
     "output_type": "execute_result"
    }
   ],
   "source": [
    "y_fb"
   ]
  },
  {
   "cell_type": "code",
   "execution_count": 21,
   "metadata": {},
   "outputs": [],
   "source": [
    "from sklearn.base import BaseEstimator, TransformerMixin\n",
    "from sklearn.utils.validation import check_is_fitted, check_array\n",
    "\n",
    "class ExponentialSaturation(BaseEstimator, TransformerMixin):\n",
    "    def __init__(self, a=1.):\n",
    "        self.a = a\n",
    "        \n",
    "    def fit(self, X, y=None):\n",
    "        X = check_array(X)\n",
    "        self._check_n_features(X, reset=True) # from BaseEstimator\n",
    "        return self\n",
    "    def transform(self, X):\n",
    "        check_is_fitted(self)\n",
    "        X = check_array(X)\n",
    "        self._check_n_features(X, reset=False) # from BaseEstimator\n",
    "        return 1 - np.exp(-self.a*X)"
   ]
  },
  {
   "cell_type": "code",
   "execution_count": 22,
   "metadata": {},
   "outputs": [],
   "source": [
    "from scipy.signal import convolve2d\n",
    "\n",
    "class ExponentialCarryover(BaseEstimator, TransformerMixin):\n",
    "    def __init__(self, strength=0.5, length=1):\n",
    "        self.strength = strength\n",
    "        self.length = length\n",
    "    def fit(self, X, y=None):\n",
    "        X = check_array(X)\n",
    "        self._check_n_features(X, reset=True)\n",
    "        self.sliding_window_ = (\n",
    "            self.strength ** np.arange(self.length + 1)\n",
    "        ).reshape(-1, 1)\n",
    "        return self\n",
    "    def transform(self, X: np.ndarray):\n",
    "        check_is_fitted(self)\n",
    "        X = check_array(X)\n",
    "        self._check_n_features(X, reset=False)\n",
    "        convolution = convolve2d(X, self.sliding_window_)\n",
    "        if self.length > 0:\n",
    "            convolution = convolution[: -self.length]\n",
    "        return convolution"
   ]
  },
  {
   "cell_type": "code",
   "execution_count": 38,
   "metadata": {},
   "outputs": [],
   "source": [
    "from sklearn.compose import ColumnTransformer\n",
    "from sklearn.pipeline import Pipeline\n",
    "from sklearn.linear_model import LinearRegression\n",
    "adstock = ColumnTransformer(\n",
    "    [\n",
    "     ('fb_pipe', Pipeline([\n",
    "                           ('carryover', ExponentialCarryover()),\n",
    "                           ('saturation', ExponentialSaturation())\n",
    "     ]), ['fb_costs']),\n",
    "     ('gg_pipe', Pipeline([\n",
    "                           ('carryover', ExponentialCarryover()),\n",
    "                           ('saturation', ExponentialSaturation())\n",
    "     ]), ['google_costs'])\n",
    "    ],\n",
    "    remainder='passthrough'\n",
    "    )\n",
    "\n",
    "model = Pipeline([\n",
    "                  ('adstock', adstock),\n",
    "                  ('regression', LinearRegression())\n",
    "])"
   ]
  },
  {
   "cell_type": "code",
   "execution_count": 39,
   "metadata": {},
   "outputs": [
    {
     "data": {
      "text/html": [
       "<div>\n",
       "<style scoped>\n",
       "    .dataframe tbody tr th:only-of-type {\n",
       "        vertical-align: middle;\n",
       "    }\n",
       "\n",
       "    .dataframe tbody tr th {\n",
       "        vertical-align: top;\n",
       "    }\n",
       "\n",
       "    .dataframe thead th {\n",
       "        text-align: right;\n",
       "    }\n",
       "</style>\n",
       "<table border=\"1\" class=\"dataframe\">\n",
       "  <thead>\n",
       "    <tr style=\"text-align: right;\">\n",
       "      <th></th>\n",
       "      <th>orders</th>\n",
       "      <th>total_sales</th>\n",
       "      <th>fb_costs</th>\n",
       "      <th>fb_impressions</th>\n",
       "      <th>fb_clicks</th>\n",
       "      <th>google_costs</th>\n",
       "      <th>google_impressions</th>\n",
       "      <th>google_clicks</th>\n",
       "    </tr>\n",
       "    <tr>\n",
       "      <th>Day</th>\n",
       "      <th></th>\n",
       "      <th></th>\n",
       "      <th></th>\n",
       "      <th></th>\n",
       "      <th></th>\n",
       "      <th></th>\n",
       "      <th></th>\n",
       "      <th></th>\n",
       "    </tr>\n",
       "  </thead>\n",
       "  <tbody>\n",
       "    <tr>\n",
       "      <th>2021-07-01</th>\n",
       "      <td>10.0</td>\n",
       "      <td>414.85</td>\n",
       "      <td>257.01</td>\n",
       "      <td>36200</td>\n",
       "      <td>129</td>\n",
       "      <td>1.17</td>\n",
       "      <td>39</td>\n",
       "      <td>20</td>\n",
       "    </tr>\n",
       "    <tr>\n",
       "      <th>2021-07-02</th>\n",
       "      <td>6.0</td>\n",
       "      <td>229.95</td>\n",
       "      <td>250.30</td>\n",
       "      <td>33040</td>\n",
       "      <td>150</td>\n",
       "      <td>0.84</td>\n",
       "      <td>14</td>\n",
       "      <td>7</td>\n",
       "    </tr>\n",
       "    <tr>\n",
       "      <th>2021-07-03</th>\n",
       "      <td>10.0</td>\n",
       "      <td>459.89</td>\n",
       "      <td>248.59</td>\n",
       "      <td>33031</td>\n",
       "      <td>129</td>\n",
       "      <td>0.72</td>\n",
       "      <td>12</td>\n",
       "      <td>6</td>\n",
       "    </tr>\n",
       "    <tr>\n",
       "      <th>2021-07-04</th>\n",
       "      <td>17.0</td>\n",
       "      <td>508.36</td>\n",
       "      <td>258.05</td>\n",
       "      <td>37463</td>\n",
       "      <td>119</td>\n",
       "      <td>0.07</td>\n",
       "      <td>13</td>\n",
       "      <td>5</td>\n",
       "    </tr>\n",
       "    <tr>\n",
       "      <th>2021-07-05</th>\n",
       "      <td>13.0</td>\n",
       "      <td>399.88</td>\n",
       "      <td>257.47</td>\n",
       "      <td>35963</td>\n",
       "      <td>142</td>\n",
       "      <td>0.38</td>\n",
       "      <td>34</td>\n",
       "      <td>16</td>\n",
       "    </tr>\n",
       "  </tbody>\n",
       "</table>\n",
       "</div>"
      ],
      "text/plain": [
       "            orders  total_sales  fb_costs  fb_impressions  fb_clicks  \\\n",
       "Day                                                                    \n",
       "2021-07-01    10.0       414.85    257.01           36200        129   \n",
       "2021-07-02     6.0       229.95    250.30           33040        150   \n",
       "2021-07-03    10.0       459.89    248.59           33031        129   \n",
       "2021-07-04    17.0       508.36    258.05           37463        119   \n",
       "2021-07-05    13.0       399.88    257.47           35963        142   \n",
       "\n",
       "            google_costs  google_impressions  google_clicks  \n",
       "Day                                                          \n",
       "2021-07-01          1.17                  39             20  \n",
       "2021-07-02          0.84                  14              7  \n",
       "2021-07-03          0.72                  12              6  \n",
       "2021-07-04          0.07                  13              5  \n",
       "2021-07-05          0.38                  34             16  "
      ]
     },
     "execution_count": 39,
     "metadata": {},
     "output_type": "execute_result"
    }
   ],
   "source": [
    "df.head()"
   ]
  },
  {
   "cell_type": "code",
   "execution_count": 40,
   "metadata": {},
   "outputs": [],
   "source": [
    "X = df.drop(columns = ['total_sales', 'orders', 'fb_impressions', 'fb_clicks', 'google_impressions', 'google_clicks'])\n",
    "y = df[['total_sales']]"
   ]
  },
  {
   "cell_type": "code",
   "execution_count": 45,
   "metadata": {},
   "outputs": [
    {
     "data": {
      "text/html": [
       "<div>\n",
       "<style scoped>\n",
       "    .dataframe tbody tr th:only-of-type {\n",
       "        vertical-align: middle;\n",
       "    }\n",
       "\n",
       "    .dataframe tbody tr th {\n",
       "        vertical-align: top;\n",
       "    }\n",
       "\n",
       "    .dataframe thead th {\n",
       "        text-align: right;\n",
       "    }\n",
       "</style>\n",
       "<table border=\"1\" class=\"dataframe\">\n",
       "  <thead>\n",
       "    <tr style=\"text-align: right;\">\n",
       "      <th></th>\n",
       "      <th>fb_costs</th>\n",
       "      <th>google_costs</th>\n",
       "    </tr>\n",
       "    <tr>\n",
       "      <th>Day</th>\n",
       "      <th></th>\n",
       "      <th></th>\n",
       "    </tr>\n",
       "  </thead>\n",
       "  <tbody>\n",
       "    <tr>\n",
       "      <th>2021-07-01</th>\n",
       "      <td>257.01</td>\n",
       "      <td>1.17</td>\n",
       "    </tr>\n",
       "    <tr>\n",
       "      <th>2021-07-02</th>\n",
       "      <td>250.30</td>\n",
       "      <td>0.84</td>\n",
       "    </tr>\n",
       "    <tr>\n",
       "      <th>2021-07-03</th>\n",
       "      <td>248.59</td>\n",
       "      <td>0.72</td>\n",
       "    </tr>\n",
       "    <tr>\n",
       "      <th>2021-07-04</th>\n",
       "      <td>258.05</td>\n",
       "      <td>0.07</td>\n",
       "    </tr>\n",
       "    <tr>\n",
       "      <th>2021-07-05</th>\n",
       "      <td>257.47</td>\n",
       "      <td>0.38</td>\n",
       "    </tr>\n",
       "  </tbody>\n",
       "</table>\n",
       "</div>"
      ],
      "text/plain": [
       "            fb_costs  google_costs\n",
       "Day                               \n",
       "2021-07-01    257.01          1.17\n",
       "2021-07-02    250.30          0.84\n",
       "2021-07-03    248.59          0.72\n",
       "2021-07-04    258.05          0.07\n",
       "2021-07-05    257.47          0.38"
      ]
     },
     "execution_count": 45,
     "metadata": {},
     "output_type": "execute_result"
    }
   ],
   "source": [
    "X.head()"
   ]
  },
  {
   "cell_type": "code",
   "execution_count": 43,
   "metadata": {},
   "outputs": [
    {
     "data": {
      "text/plain": [
       "array([ 0.35660108, -0.0883035 , -0.21349722, -1.3135077 ,  0.0991357 ])"
      ]
     },
     "execution_count": 43,
     "metadata": {},
     "output_type": "execute_result"
    }
   ],
   "source": [
    "model.fit(X, y)\n",
    "cross_val_score(model, X, y, cv=TimeSeriesSplit())#.mean()"
   ]
  },
  {
   "cell_type": "code",
   "execution_count": 51,
   "metadata": {},
   "outputs": [],
   "source": [
    "from sklearn.model_selection import RandomizedSearchCV\n",
    "from scipy.stats import uniform, randint\n",
    "tuned_model = RandomizedSearchCV(\n",
    "    estimator=model,\n",
    "    param_distributions={\n",
    "        'adstock__fb_pipe__carryover__strength': uniform(0, 1),\n",
    "        'adstock__fb_pipe__carryover__length': randint(0, 6),\n",
    "        'adstock__fb_pipe__saturation__a': uniform(0, 0.01),\n",
    "        'adstock__gg_pipe__carryover__strength': uniform(0, 1),\n",
    "        'adstock__gg_pipe__carryover__length': randint(0, 6),\n",
    "        'adstock__gg_pipe__saturation__a': uniform(0, 0.01)\n",
    "    },\n",
    "    n_iter=100,\n",
    "    cv=TimeSeriesSplit(),\n",
    "    random_state=0\n",
    ")"
   ]
  },
  {
   "cell_type": "code",
   "execution_count": 52,
   "metadata": {},
   "outputs": [
    {
     "data": {
      "text/plain": [
       "array([-4.52379983,  0.27669101,  0.51670609, -0.23440471,  0.54721974])"
      ]
     },
     "execution_count": 52,
     "metadata": {},
     "output_type": "execute_result"
    }
   ],
   "source": [
    "tuned_model.fit(X, y)\n",
    "cross_val_score(tuned_model, X, y, cv=TimeSeriesSplit())#.mean()"
   ]
  },
  {
   "cell_type": "code",
   "execution_count": null,
   "metadata": {},
   "outputs": [],
   "source": []
  }
 ],
 "metadata": {
  "kernelspec": {
   "display_name": "Python 3 (ipykernel)",
   "language": "python",
   "name": "python3"
  },
  "language_info": {
   "codemirror_mode": {
    "name": "ipython",
    "version": 3
   },
   "file_extension": ".py",
   "mimetype": "text/x-python",
   "name": "python",
   "nbconvert_exporter": "python",
   "pygments_lexer": "ipython3",
   "version": "3.10.6"
  }
 },
 "nbformat": 4,
 "nbformat_minor": 4
}
