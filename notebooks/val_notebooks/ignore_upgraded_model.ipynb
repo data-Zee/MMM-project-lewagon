{
 "cells": [
  {
   "cell_type": "code",
   "execution_count": 33,
   "metadata": {},
   "outputs": [],
   "source": [
    "from sklearn.base import BaseEstimator, TransformerMixin\n",
    "from sklearn.utils.validation import check_is_fitted, check_array\n",
    "import numpy as np\n",
    "\n",
    "class ExponentialSaturation(BaseEstimator, TransformerMixin):\n",
    "    def __init__(self, a=1.):\n",
    "        self.a = a\n",
    "        \n",
    "    def fit(self, X, y=None):\n",
    "        X = check_array(X)\n",
    "        self._check_n_features(X, reset=True) # from BaseEstimator\n",
    "        return self\n",
    "\n",
    "    def transform(self, X):\n",
    "        check_is_fitted(self)\n",
    "        X = check_array(X)\n",
    "        self._check_n_features(X, reset=False) # from BaseEstimator\n",
    "        return 1 - np.exp(-self.a*X)"
   ]
  },
  {
   "cell_type": "code",
   "execution_count": 34,
   "metadata": {},
   "outputs": [],
   "source": [
    "from scipy.signal import convolve2d\n",
    "\n",
    "class ExponentialCarryover(BaseEstimator, TransformerMixin):\n",
    "    def __init__(self, strength=0.5, length=1):\n",
    "        self.strength = strength\n",
    "        self.length = length\n",
    "\n",
    "    def fit(self, X, y=None):\n",
    "        X = check_array(X)\n",
    "        self._check_n_features(X, reset=True)\n",
    "        self.sliding_window_ = (\n",
    "            self.strength ** np.arange(self.length + 1)\n",
    "        ).reshape(-1, 1)\n",
    "        return self\n",
    "\n",
    "    def transform(self, X: np.ndarray):\n",
    "        check_is_fitted(self)\n",
    "        X = check_array(X)\n",
    "        self._check_n_features(X, reset=False)\n",
    "        convolution = convolve2d(X, self.sliding_window_)\n",
    "        if self.length > 0:\n",
    "            convolution = convolution[: -self.length]\n",
    "        return convolution"
   ]
  },
  {
   "cell_type": "code",
   "execution_count": 35,
   "metadata": {},
   "outputs": [],
   "source": [
    "from sklearn.compose import ColumnTransformer\n",
    "from sklearn.pipeline import Pipeline\n",
    "from sklearn.linear_model import LinearRegression\n",
    "\n",
    "adstock = ColumnTransformer(\n",
    "    [\n",
    "     ('facebook_pipe', Pipeline([\n",
    "                           ('carryover', ExponentialCarryover()),\n",
    "                           ('saturation', ExponentialSaturation())\n",
    "     ]), ['facebook']),\n",
    "     ('google_pipe', Pipeline([\n",
    "                           ('carryover', ExponentialCarryover()),\n",
    "                           ('saturation', ExponentialSaturation())\n",
    "     ]), ['google'])\n",
    "    ],\n",
    "    remainder='passthrough'\n",
    ")\n",
    "\n",
    "model = Pipeline([\n",
    "                  ('adstock', adstock),\n",
    "                  ('regression', LinearRegression())\n",
    "])"
   ]
  },
  {
   "cell_type": "code",
   "execution_count": 65,
   "metadata": {},
   "outputs": [],
   "source": [
    "import pandas as pd\n",
    "\n",
    "df = pd.read_csv('../raw_data/df_clean.csv')\n",
    "df = df.drop(columns='Unnamed: 0')\n",
    "df['Day'] = pd.to_datetime(df['Day'])\n",
    "df.set_index('Day', inplace=True)\n",
    "df = df.rename(columns={\"fb_costs\": \"facebook\", \"google_costs\": \"google\", \"tt_costs\": \"tiktok\"})\n",
    "\n",
    "# create a simple dataframe\n",
    "\n",
    "simple_df = df.drop(columns = ['fb_impressions', 'fb_clicks', 'google_impressions', 'google_clicks', 'tt_impressions', 'tt_clicks'])\n",
    "\n",
    "X_simple = simple_df.drop(columns = ['orders', 'total_sales']) # 2 channels: facebook and google\n",
    "y_simple = simple_df['total_sales'] # for now lets just use total_sales and exclude orders"
   ]
  },
  {
   "cell_type": "code",
   "execution_count": 54,
   "metadata": {},
   "outputs": [
    {
     "data": {
      "text/plain": [
       "-0.23191432831681374"
      ]
     },
     "execution_count": 54,
     "metadata": {},
     "output_type": "execute_result"
    }
   ],
   "source": [
    "from sklearn.model_selection import cross_val_score, TimeSeriesSplit\n",
    "\n",
    "model.fit(X_simple, y_simple)\n",
    "\n",
    "cross_val_score(model, X_simple, y_simple, cv=TimeSeriesSplit()).mean()"
   ]
  },
  {
   "cell_type": "code",
   "execution_count": 64,
   "metadata": {},
   "outputs": [
    {
     "data": {
      "text/plain": [
       "0.15595412338052106"
      ]
     },
     "execution_count": 64,
     "metadata": {},
     "output_type": "execute_result"
    }
   ],
   "source": [
    "model.fit(X_simple, y_simple).score(X_simple, y_simple)"
   ]
  },
  {
   "cell_type": "code",
   "execution_count": 55,
   "metadata": {},
   "outputs": [],
   "source": [
    "from sklearn.model_selection import RandomizedSearchCV\n",
    "from scipy.stats import uniform, randint\n",
    "\n",
    "tuned_model = RandomizedSearchCV(\n",
    "    estimator=model,\n",
    "    param_distributions={\n",
    "        'adstock__facebook_pipe__carryover__strength': uniform(0, 1),\n",
    "        'adstock__facebook_pipe__carryover__length': randint(0, 6),\n",
    "        'adstock__facebook_pipe__saturation__a': uniform(0, 0.01),\n",
    "        'adstock__google_pipe__carryover__strength': uniform(0, 1),\n",
    "        'adstock__google_pipe__carryover__length': randint(0, 6),\n",
    "        'adstock__google_pipe__saturation__a': uniform(0, 0.01),\n",
    "    },\n",
    "    n_iter=100,\n",
    "    cv=TimeSeriesSplit()\n",
    ")"
   ]
  },
  {
   "cell_type": "code",
   "execution_count": 56,
   "metadata": {},
   "outputs": [
    {
     "data": {
      "text/plain": [
       "-0.43394663936940103"
      ]
     },
     "execution_count": 56,
     "metadata": {},
     "output_type": "execute_result"
    }
   ],
   "source": [
    "cross_val_score(tuned_model, X_simple, y_simple, cv=TimeSeriesSplit()).mean()"
   ]
  },
  {
   "cell_type": "code",
   "execution_count": 57,
   "metadata": {},
   "outputs": [
    {
     "data": {
      "text/html": [
       "<style>#sk-container-id-3 {color: black;}#sk-container-id-3 pre{padding: 0;}#sk-container-id-3 div.sk-toggleable {background-color: white;}#sk-container-id-3 label.sk-toggleable__label {cursor: pointer;display: block;width: 100%;margin-bottom: 0;padding: 0.3em;box-sizing: border-box;text-align: center;}#sk-container-id-3 label.sk-toggleable__label-arrow:before {content: \"▸\";float: left;margin-right: 0.25em;color: #696969;}#sk-container-id-3 label.sk-toggleable__label-arrow:hover:before {color: black;}#sk-container-id-3 div.sk-estimator:hover label.sk-toggleable__label-arrow:before {color: black;}#sk-container-id-3 div.sk-toggleable__content {max-height: 0;max-width: 0;overflow: hidden;text-align: left;background-color: #f0f8ff;}#sk-container-id-3 div.sk-toggleable__content pre {margin: 0.2em;color: black;border-radius: 0.25em;background-color: #f0f8ff;}#sk-container-id-3 input.sk-toggleable__control:checked~div.sk-toggleable__content {max-height: 200px;max-width: 100%;overflow: auto;}#sk-container-id-3 input.sk-toggleable__control:checked~label.sk-toggleable__label-arrow:before {content: \"▾\";}#sk-container-id-3 div.sk-estimator input.sk-toggleable__control:checked~label.sk-toggleable__label {background-color: #d4ebff;}#sk-container-id-3 div.sk-label input.sk-toggleable__control:checked~label.sk-toggleable__label {background-color: #d4ebff;}#sk-container-id-3 input.sk-hidden--visually {border: 0;clip: rect(1px 1px 1px 1px);clip: rect(1px, 1px, 1px, 1px);height: 1px;margin: -1px;overflow: hidden;padding: 0;position: absolute;width: 1px;}#sk-container-id-3 div.sk-estimator {font-family: monospace;background-color: #f0f8ff;border: 1px dotted black;border-radius: 0.25em;box-sizing: border-box;margin-bottom: 0.5em;}#sk-container-id-3 div.sk-estimator:hover {background-color: #d4ebff;}#sk-container-id-3 div.sk-parallel-item::after {content: \"\";width: 100%;border-bottom: 1px solid gray;flex-grow: 1;}#sk-container-id-3 div.sk-label:hover label.sk-toggleable__label {background-color: #d4ebff;}#sk-container-id-3 div.sk-serial::before {content: \"\";position: absolute;border-left: 1px solid gray;box-sizing: border-box;top: 0;bottom: 0;left: 50%;z-index: 0;}#sk-container-id-3 div.sk-serial {display: flex;flex-direction: column;align-items: center;background-color: white;padding-right: 0.2em;padding-left: 0.2em;position: relative;}#sk-container-id-3 div.sk-item {position: relative;z-index: 1;}#sk-container-id-3 div.sk-parallel {display: flex;align-items: stretch;justify-content: center;background-color: white;position: relative;}#sk-container-id-3 div.sk-item::before, #sk-container-id-3 div.sk-parallel-item::before {content: \"\";position: absolute;border-left: 1px solid gray;box-sizing: border-box;top: 0;bottom: 0;left: 50%;z-index: -1;}#sk-container-id-3 div.sk-parallel-item {display: flex;flex-direction: column;z-index: 1;position: relative;background-color: white;}#sk-container-id-3 div.sk-parallel-item:first-child::after {align-self: flex-end;width: 50%;}#sk-container-id-3 div.sk-parallel-item:last-child::after {align-self: flex-start;width: 50%;}#sk-container-id-3 div.sk-parallel-item:only-child::after {width: 0;}#sk-container-id-3 div.sk-dashed-wrapped {border: 1px dashed gray;margin: 0 0.4em 0.5em 0.4em;box-sizing: border-box;padding-bottom: 0.4em;background-color: white;}#sk-container-id-3 div.sk-label label {font-family: monospace;font-weight: bold;display: inline-block;line-height: 1.2em;}#sk-container-id-3 div.sk-label-container {text-align: center;}#sk-container-id-3 div.sk-container {/* jupyter's `normalize.less` sets `[hidden] { display: none; }` but bootstrap.min.css set `[hidden] { display: none !important; }` so we also need the `!important` here to be able to override the default hidden behavior on the sphinx rendered scikit-learn.org. See: https://github.com/scikit-learn/scikit-learn/issues/21755 */display: inline-block !important;position: relative;}#sk-container-id-3 div.sk-text-repr-fallback {display: none;}</style><div id=\"sk-container-id-3\" class=\"sk-top-container\"><div class=\"sk-text-repr-fallback\"><pre>RandomizedSearchCV(cv=TimeSeriesSplit(gap=0, max_train_size=None, n_splits=5, test_size=None),\n",
       "                   estimator=Pipeline(steps=[(&#x27;adstock&#x27;,\n",
       "                                              ColumnTransformer(remainder=&#x27;passthrough&#x27;,\n",
       "                                                                transformers=[(&#x27;facebook_pipe&#x27;,\n",
       "                                                                               Pipeline(steps=[(&#x27;carryover&#x27;,\n",
       "                                                                                                ExponentialCarryover()),\n",
       "                                                                                               (&#x27;saturation&#x27;,\n",
       "                                                                                                ExponentialSaturation())]),\n",
       "                                                                               [&#x27;facebook&#x27;]),\n",
       "                                                                              (&#x27;google_pipe&#x27;,\n",
       "                                                                               Pipeline(steps=[(&#x27;carryove...\n",
       "                                        &#x27;adstock__google_pipe__carryover__length&#x27;: &lt;scipy.stats._distn_infrastructure.rv_discrete_frozen object at 0x1129313f0&gt;,\n",
       "                                        &#x27;adstock__google_pipe__carryover__strength&#x27;: &lt;scipy.stats._distn_infrastructure.rv_continuous_frozen object at 0x112932830&gt;,\n",
       "                                        &#x27;adstock__google_pipe__saturation__a&#x27;: &lt;scipy.stats._distn_infrastructure.rv_continuous_frozen object at 0x112932440&gt;})</pre><b>In a Jupyter environment, please rerun this cell to show the HTML representation or trust the notebook. <br />On GitHub, the HTML representation is unable to render, please try loading this page with nbviewer.org.</b></div><div class=\"sk-container\" hidden><div class=\"sk-item sk-dashed-wrapped\"><div class=\"sk-label-container\"><div class=\"sk-label sk-toggleable\"><input class=\"sk-toggleable__control sk-hidden--visually\" id=\"sk-estimator-id-25\" type=\"checkbox\" ><label for=\"sk-estimator-id-25\" class=\"sk-toggleable__label sk-toggleable__label-arrow\">RandomizedSearchCV</label><div class=\"sk-toggleable__content\"><pre>RandomizedSearchCV(cv=TimeSeriesSplit(gap=0, max_train_size=None, n_splits=5, test_size=None),\n",
       "                   estimator=Pipeline(steps=[(&#x27;adstock&#x27;,\n",
       "                                              ColumnTransformer(remainder=&#x27;passthrough&#x27;,\n",
       "                                                                transformers=[(&#x27;facebook_pipe&#x27;,\n",
       "                                                                               Pipeline(steps=[(&#x27;carryover&#x27;,\n",
       "                                                                                                ExponentialCarryover()),\n",
       "                                                                                               (&#x27;saturation&#x27;,\n",
       "                                                                                                ExponentialSaturation())]),\n",
       "                                                                               [&#x27;facebook&#x27;]),\n",
       "                                                                              (&#x27;google_pipe&#x27;,\n",
       "                                                                               Pipeline(steps=[(&#x27;carryove...\n",
       "                                        &#x27;adstock__google_pipe__carryover__length&#x27;: &lt;scipy.stats._distn_infrastructure.rv_discrete_frozen object at 0x1129313f0&gt;,\n",
       "                                        &#x27;adstock__google_pipe__carryover__strength&#x27;: &lt;scipy.stats._distn_infrastructure.rv_continuous_frozen object at 0x112932830&gt;,\n",
       "                                        &#x27;adstock__google_pipe__saturation__a&#x27;: &lt;scipy.stats._distn_infrastructure.rv_continuous_frozen object at 0x112932440&gt;})</pre></div></div></div><div class=\"sk-parallel\"><div class=\"sk-parallel-item\"><div class=\"sk-item\"><div class=\"sk-label-container\"><div class=\"sk-label sk-toggleable\"><input class=\"sk-toggleable__control sk-hidden--visually\" id=\"sk-estimator-id-26\" type=\"checkbox\" ><label for=\"sk-estimator-id-26\" class=\"sk-toggleable__label sk-toggleable__label-arrow\">estimator: Pipeline</label><div class=\"sk-toggleable__content\"><pre>Pipeline(steps=[(&#x27;adstock&#x27;,\n",
       "                 ColumnTransformer(remainder=&#x27;passthrough&#x27;,\n",
       "                                   transformers=[(&#x27;facebook_pipe&#x27;,\n",
       "                                                  Pipeline(steps=[(&#x27;carryover&#x27;,\n",
       "                                                                   ExponentialCarryover()),\n",
       "                                                                  (&#x27;saturation&#x27;,\n",
       "                                                                   ExponentialSaturation())]),\n",
       "                                                  [&#x27;facebook&#x27;]),\n",
       "                                                 (&#x27;google_pipe&#x27;,\n",
       "                                                  Pipeline(steps=[(&#x27;carryover&#x27;,\n",
       "                                                                   ExponentialCarryover()),\n",
       "                                                                  (&#x27;saturation&#x27;,\n",
       "                                                                   ExponentialSaturation())]),\n",
       "                                                  [&#x27;google&#x27;])])),\n",
       "                (&#x27;regression&#x27;, LinearRegression())])</pre></div></div></div><div class=\"sk-serial\"><div class=\"sk-item\"><div class=\"sk-serial\"><div class=\"sk-item sk-dashed-wrapped\"><div class=\"sk-label-container\"><div class=\"sk-label sk-toggleable\"><input class=\"sk-toggleable__control sk-hidden--visually\" id=\"sk-estimator-id-27\" type=\"checkbox\" ><label for=\"sk-estimator-id-27\" class=\"sk-toggleable__label sk-toggleable__label-arrow\">adstock: ColumnTransformer</label><div class=\"sk-toggleable__content\"><pre>ColumnTransformer(remainder=&#x27;passthrough&#x27;,\n",
       "                  transformers=[(&#x27;facebook_pipe&#x27;,\n",
       "                                 Pipeline(steps=[(&#x27;carryover&#x27;,\n",
       "                                                  ExponentialCarryover()),\n",
       "                                                 (&#x27;saturation&#x27;,\n",
       "                                                  ExponentialSaturation())]),\n",
       "                                 [&#x27;facebook&#x27;]),\n",
       "                                (&#x27;google_pipe&#x27;,\n",
       "                                 Pipeline(steps=[(&#x27;carryover&#x27;,\n",
       "                                                  ExponentialCarryover()),\n",
       "                                                 (&#x27;saturation&#x27;,\n",
       "                                                  ExponentialSaturation())]),\n",
       "                                 [&#x27;google&#x27;])])</pre></div></div></div><div class=\"sk-parallel\"><div class=\"sk-parallel-item\"><div class=\"sk-item\"><div class=\"sk-label-container\"><div class=\"sk-label sk-toggleable\"><input class=\"sk-toggleable__control sk-hidden--visually\" id=\"sk-estimator-id-28\" type=\"checkbox\" ><label for=\"sk-estimator-id-28\" class=\"sk-toggleable__label sk-toggleable__label-arrow\">facebook_pipe</label><div class=\"sk-toggleable__content\"><pre>[&#x27;facebook&#x27;]</pre></div></div></div><div class=\"sk-serial\"><div class=\"sk-item\"><div class=\"sk-serial\"><div class=\"sk-item\"><div class=\"sk-estimator sk-toggleable\"><input class=\"sk-toggleable__control sk-hidden--visually\" id=\"sk-estimator-id-29\" type=\"checkbox\" ><label for=\"sk-estimator-id-29\" class=\"sk-toggleable__label sk-toggleable__label-arrow\">ExponentialCarryover</label><div class=\"sk-toggleable__content\"><pre>ExponentialCarryover()</pre></div></div></div><div class=\"sk-item\"><div class=\"sk-estimator sk-toggleable\"><input class=\"sk-toggleable__control sk-hidden--visually\" id=\"sk-estimator-id-30\" type=\"checkbox\" ><label for=\"sk-estimator-id-30\" class=\"sk-toggleable__label sk-toggleable__label-arrow\">ExponentialSaturation</label><div class=\"sk-toggleable__content\"><pre>ExponentialSaturation()</pre></div></div></div></div></div></div></div></div><div class=\"sk-parallel-item\"><div class=\"sk-item\"><div class=\"sk-label-container\"><div class=\"sk-label sk-toggleable\"><input class=\"sk-toggleable__control sk-hidden--visually\" id=\"sk-estimator-id-31\" type=\"checkbox\" ><label for=\"sk-estimator-id-31\" class=\"sk-toggleable__label sk-toggleable__label-arrow\">google_pipe</label><div class=\"sk-toggleable__content\"><pre>[&#x27;google&#x27;]</pre></div></div></div><div class=\"sk-serial\"><div class=\"sk-item\"><div class=\"sk-serial\"><div class=\"sk-item\"><div class=\"sk-estimator sk-toggleable\"><input class=\"sk-toggleable__control sk-hidden--visually\" id=\"sk-estimator-id-32\" type=\"checkbox\" ><label for=\"sk-estimator-id-32\" class=\"sk-toggleable__label sk-toggleable__label-arrow\">ExponentialCarryover</label><div class=\"sk-toggleable__content\"><pre>ExponentialCarryover()</pre></div></div></div><div class=\"sk-item\"><div class=\"sk-estimator sk-toggleable\"><input class=\"sk-toggleable__control sk-hidden--visually\" id=\"sk-estimator-id-33\" type=\"checkbox\" ><label for=\"sk-estimator-id-33\" class=\"sk-toggleable__label sk-toggleable__label-arrow\">ExponentialSaturation</label><div class=\"sk-toggleable__content\"><pre>ExponentialSaturation()</pre></div></div></div></div></div></div></div></div><div class=\"sk-parallel-item\"><div class=\"sk-item\"><div class=\"sk-label-container\"><div class=\"sk-label sk-toggleable\"><input class=\"sk-toggleable__control sk-hidden--visually\" id=\"sk-estimator-id-34\" type=\"checkbox\" ><label for=\"sk-estimator-id-34\" class=\"sk-toggleable__label sk-toggleable__label-arrow\">remainder</label><div class=\"sk-toggleable__content\"><pre>[]</pre></div></div></div><div class=\"sk-serial\"><div class=\"sk-item\"><div class=\"sk-estimator sk-toggleable\"><input class=\"sk-toggleable__control sk-hidden--visually\" id=\"sk-estimator-id-35\" type=\"checkbox\" ><label for=\"sk-estimator-id-35\" class=\"sk-toggleable__label sk-toggleable__label-arrow\">passthrough</label><div class=\"sk-toggleable__content\"><pre>passthrough</pre></div></div></div></div></div></div></div></div><div class=\"sk-item\"><div class=\"sk-estimator sk-toggleable\"><input class=\"sk-toggleable__control sk-hidden--visually\" id=\"sk-estimator-id-36\" type=\"checkbox\" ><label for=\"sk-estimator-id-36\" class=\"sk-toggleable__label sk-toggleable__label-arrow\">LinearRegression</label><div class=\"sk-toggleable__content\"><pre>LinearRegression()</pre></div></div></div></div></div></div></div></div></div></div></div></div>"
      ],
      "text/plain": [
       "RandomizedSearchCV(cv=TimeSeriesSplit(gap=0, max_train_size=None, n_splits=5, test_size=None),\n",
       "                   estimator=Pipeline(steps=[('adstock',\n",
       "                                              ColumnTransformer(remainder='passthrough',\n",
       "                                                                transformers=[('facebook_pipe',\n",
       "                                                                               Pipeline(steps=[('carryover',\n",
       "                                                                                                ExponentialCarryover()),\n",
       "                                                                                               ('saturation',\n",
       "                                                                                                ExponentialSaturation())]),\n",
       "                                                                               ['facebook']),\n",
       "                                                                              ('google_pipe',\n",
       "                                                                               Pipeline(steps=[('carryove...\n",
       "                                        'adstock__google_pipe__carryover__length': <scipy.stats._distn_infrastructure.rv_discrete_frozen object at 0x1129313f0>,\n",
       "                                        'adstock__google_pipe__carryover__strength': <scipy.stats._distn_infrastructure.rv_continuous_frozen object at 0x112932830>,\n",
       "                                        'adstock__google_pipe__saturation__a': <scipy.stats._distn_infrastructure.rv_continuous_frozen object at 0x112932440>})"
      ]
     },
     "execution_count": 57,
     "metadata": {},
     "output_type": "execute_result"
    }
   ],
   "source": [
    "tuned_model.fit(X_simple, y_simple)"
   ]
  },
  {
   "cell_type": "markdown",
   "metadata": {},
   "source": [
    "# Visualization"
   ]
  },
  {
   "cell_type": "code",
   "execution_count": 61,
   "metadata": {},
   "outputs": [
    {
     "data": {
      "text/html": [
       "<div>\n",
       "<style scoped>\n",
       "    .dataframe tbody tr th:only-of-type {\n",
       "        vertical-align: middle;\n",
       "    }\n",
       "\n",
       "    .dataframe tbody tr th {\n",
       "        vertical-align: top;\n",
       "    }\n",
       "\n",
       "    .dataframe thead th {\n",
       "        text-align: right;\n",
       "    }\n",
       "</style>\n",
       "<table border=\"1\" class=\"dataframe\">\n",
       "  <thead>\n",
       "    <tr style=\"text-align: right;\">\n",
       "      <th></th>\n",
       "      <th>total_sales</th>\n",
       "    </tr>\n",
       "    <tr>\n",
       "      <th>Day</th>\n",
       "      <th></th>\n",
       "    </tr>\n",
       "  </thead>\n",
       "  <tbody>\n",
       "    <tr>\n",
       "      <th>2021-07-01</th>\n",
       "      <td>414.85</td>\n",
       "    </tr>\n",
       "    <tr>\n",
       "      <th>2021-07-02</th>\n",
       "      <td>229.95</td>\n",
       "    </tr>\n",
       "    <tr>\n",
       "      <th>2021-07-03</th>\n",
       "      <td>459.89</td>\n",
       "    </tr>\n",
       "    <tr>\n",
       "      <th>2021-07-04</th>\n",
       "      <td>508.36</td>\n",
       "    </tr>\n",
       "    <tr>\n",
       "      <th>2021-07-05</th>\n",
       "      <td>399.88</td>\n",
       "    </tr>\n",
       "    <tr>\n",
       "      <th>...</th>\n",
       "      <td>...</td>\n",
       "    </tr>\n",
       "    <tr>\n",
       "      <th>2020-07-29</th>\n",
       "      <td>0.00</td>\n",
       "    </tr>\n",
       "    <tr>\n",
       "      <th>2020-07-28</th>\n",
       "      <td>0.00</td>\n",
       "    </tr>\n",
       "    <tr>\n",
       "      <th>2020-07-27</th>\n",
       "      <td>0.00</td>\n",
       "    </tr>\n",
       "    <tr>\n",
       "      <th>2020-07-26</th>\n",
       "      <td>0.00</td>\n",
       "    </tr>\n",
       "    <tr>\n",
       "      <th>2020-07-25</th>\n",
       "      <td>0.00</td>\n",
       "    </tr>\n",
       "  </tbody>\n",
       "</table>\n",
       "<p>880 rows × 1 columns</p>\n",
       "</div>"
      ],
      "text/plain": [
       "            total_sales\n",
       "Day                    \n",
       "2021-07-01       414.85\n",
       "2021-07-02       229.95\n",
       "2021-07-03       459.89\n",
       "2021-07-04       508.36\n",
       "2021-07-05       399.88\n",
       "...                 ...\n",
       "2020-07-29         0.00\n",
       "2020-07-28         0.00\n",
       "2020-07-27         0.00\n",
       "2020-07-26         0.00\n",
       "2020-07-25         0.00\n",
       "\n",
       "[880 rows x 1 columns]"
      ]
     },
     "execution_count": 61,
     "metadata": {},
     "output_type": "execute_result"
    }
   ],
   "source": [
    "y"
   ]
  },
  {
   "cell_type": "code",
   "execution_count": 63,
   "metadata": {},
   "outputs": [
    {
     "ename": "ValueError",
     "evalue": "When stacked is True, each column must be either all positive or all negative. Column 'Base' contains both positive and negative values",
     "output_type": "error",
     "traceback": [
      "\u001b[0;31m---------------------------------------------------------------------------\u001b[0m",
      "\u001b[0;31mValueError\u001b[0m                                Traceback (most recent call last)",
      "Cell \u001b[0;32mIn[63], line 22\u001b[0m\n\u001b[1;32m     16\u001b[0m unadj_contributions \u001b[39m=\u001b[39m adstock_data\u001b[39m.\u001b[39mmul(weights)\u001b[39m.\u001b[39massign(Base\u001b[39m=\u001b[39mbase)\n\u001b[1;32m     17\u001b[0m adj_contributions \u001b[39m=\u001b[39m (unadj_contributions\n\u001b[1;32m     18\u001b[0m                      \u001b[39m.\u001b[39mdiv(unadj_contributions\u001b[39m.\u001b[39msum(axis\u001b[39m=\u001b[39m\u001b[39m1\u001b[39m), axis\u001b[39m=\u001b[39m\u001b[39m0\u001b[39m)\n\u001b[1;32m     19\u001b[0m                      \u001b[39m.\u001b[39mmul(y[\u001b[39m'\u001b[39m\u001b[39mtotal_sales\u001b[39m\u001b[39m'\u001b[39m], axis\u001b[39m=\u001b[39m\u001b[39m0\u001b[39m)\n\u001b[1;32m     20\u001b[0m                     )\n\u001b[0;32m---> 22\u001b[0m ax \u001b[39m=\u001b[39m (adj_contributions[[\u001b[39m'\u001b[39;49m\u001b[39mBase\u001b[39;49m\u001b[39m'\u001b[39;49m, \u001b[39m'\u001b[39;49m\u001b[39mfacebook\u001b[39;49m\u001b[39m'\u001b[39;49m, \u001b[39m'\u001b[39;49m\u001b[39mgoogle\u001b[39;49m\u001b[39m'\u001b[39;49m]]\n\u001b[1;32m     23\u001b[0m       \u001b[39m.\u001b[39;49mplot\u001b[39m.\u001b[39;49marea(\n\u001b[1;32m     24\u001b[0m           figsize\u001b[39m=\u001b[39;49m(\u001b[39m16\u001b[39;49m, \u001b[39m10\u001b[39;49m),\n\u001b[1;32m     25\u001b[0m           linewidth\u001b[39m=\u001b[39;49m\u001b[39m1\u001b[39;49m,\n\u001b[1;32m     26\u001b[0m           title\u001b[39m=\u001b[39;49m\u001b[39m'\u001b[39;49m\u001b[39mPredicted Sales and Breakdown\u001b[39;49m\u001b[39m'\u001b[39;49m,\n\u001b[1;32m     27\u001b[0m           ylabel\u001b[39m=\u001b[39;49m\u001b[39m'\u001b[39;49m\u001b[39mSales\u001b[39;49m\u001b[39m'\u001b[39;49m,\n\u001b[1;32m     28\u001b[0m           xlabel\u001b[39m=\u001b[39;49m\u001b[39m'\u001b[39;49m\u001b[39mDate\u001b[39;49m\u001b[39m'\u001b[39;49m\n\u001b[1;32m     29\u001b[0m       )\n\u001b[1;32m     30\u001b[0m      )\n\u001b[1;32m     32\u001b[0m handles, labels \u001b[39m=\u001b[39m ax\u001b[39m.\u001b[39mget_legend_handles_labels()\n\u001b[1;32m     34\u001b[0m ax\u001b[39m.\u001b[39mlegend(\n\u001b[1;32m     35\u001b[0m     handles[::\u001b[39m-\u001b[39m\u001b[39m1\u001b[39m], labels[::\u001b[39m-\u001b[39m\u001b[39m1\u001b[39m],\n\u001b[1;32m     36\u001b[0m     title\u001b[39m=\u001b[39m\u001b[39m'\u001b[39m\u001b[39mChannels\u001b[39m\u001b[39m'\u001b[39m, loc\u001b[39m=\u001b[39m\u001b[39m\"\u001b[39m\u001b[39mcenter left\u001b[39m\u001b[39m\"\u001b[39m,\n\u001b[1;32m     37\u001b[0m     bbox_to_anchor\u001b[39m=\u001b[39m(\u001b[39m1.01\u001b[39m, \u001b[39m0.5\u001b[39m)\n\u001b[1;32m     38\u001b[0m )\n",
      "File \u001b[0;32m~/.pyenv/versions/3.10.6/envs/MMM-project-lewagon/lib/python3.10/site-packages/pandas/plotting/_core.py:1557\u001b[0m, in \u001b[0;36mPlotAccessor.area\u001b[0;34m(self, x, y, **kwargs)\u001b[0m\n\u001b[1;32m   1486\u001b[0m \u001b[39mdef\u001b[39;00m \u001b[39marea\u001b[39m(\u001b[39mself\u001b[39m, x\u001b[39m=\u001b[39m\u001b[39mNone\u001b[39;00m, y\u001b[39m=\u001b[39m\u001b[39mNone\u001b[39;00m, \u001b[39m*\u001b[39m\u001b[39m*\u001b[39mkwargs) \u001b[39m-\u001b[39m\u001b[39m>\u001b[39m PlotAccessor:\n\u001b[1;32m   1487\u001b[0m \u001b[39m    \u001b[39m\u001b[39m\"\"\"\u001b[39;00m\n\u001b[1;32m   1488\u001b[0m \u001b[39m    Draw a stacked area plot.\u001b[39;00m\n\u001b[1;32m   1489\u001b[0m \n\u001b[0;32m   (...)\u001b[0m\n\u001b[1;32m   1555\u001b[0m \u001b[39m        >>> ax = df.plot.area(x='day')\u001b[39;00m\n\u001b[1;32m   1556\u001b[0m \u001b[39m    \"\"\"\u001b[39;00m\n\u001b[0;32m-> 1557\u001b[0m     \u001b[39mreturn\u001b[39;00m \u001b[39mself\u001b[39;49m(kind\u001b[39m=\u001b[39;49m\u001b[39m\"\u001b[39;49m\u001b[39marea\u001b[39;49m\u001b[39m\"\u001b[39;49m, x\u001b[39m=\u001b[39;49mx, y\u001b[39m=\u001b[39;49my, \u001b[39m*\u001b[39;49m\u001b[39m*\u001b[39;49mkwargs)\n",
      "File \u001b[0;32m~/.pyenv/versions/3.10.6/envs/MMM-project-lewagon/lib/python3.10/site-packages/pandas/plotting/_core.py:1000\u001b[0m, in \u001b[0;36mPlotAccessor.__call__\u001b[0;34m(self, *args, **kwargs)\u001b[0m\n\u001b[1;32m    997\u001b[0m             label_name \u001b[39m=\u001b[39m label_kw \u001b[39mor\u001b[39;00m data\u001b[39m.\u001b[39mcolumns\n\u001b[1;32m    998\u001b[0m             data\u001b[39m.\u001b[39mcolumns \u001b[39m=\u001b[39m label_name\n\u001b[0;32m-> 1000\u001b[0m \u001b[39mreturn\u001b[39;00m plot_backend\u001b[39m.\u001b[39;49mplot(data, kind\u001b[39m=\u001b[39;49mkind, \u001b[39m*\u001b[39;49m\u001b[39m*\u001b[39;49mkwargs)\n",
      "File \u001b[0;32m~/.pyenv/versions/3.10.6/envs/MMM-project-lewagon/lib/python3.10/site-packages/pandas/plotting/_matplotlib/__init__.py:71\u001b[0m, in \u001b[0;36mplot\u001b[0;34m(data, kind, **kwargs)\u001b[0m\n\u001b[1;32m     69\u001b[0m         kwargs[\u001b[39m\"\u001b[39m\u001b[39max\u001b[39m\u001b[39m\"\u001b[39m] \u001b[39m=\u001b[39m \u001b[39mgetattr\u001b[39m(ax, \u001b[39m\"\u001b[39m\u001b[39mleft_ax\u001b[39m\u001b[39m\"\u001b[39m, ax)\n\u001b[1;32m     70\u001b[0m plot_obj \u001b[39m=\u001b[39m PLOT_CLASSES[kind](data, \u001b[39m*\u001b[39m\u001b[39m*\u001b[39mkwargs)\n\u001b[0;32m---> 71\u001b[0m plot_obj\u001b[39m.\u001b[39;49mgenerate()\n\u001b[1;32m     72\u001b[0m plot_obj\u001b[39m.\u001b[39mdraw()\n\u001b[1;32m     73\u001b[0m \u001b[39mreturn\u001b[39;00m plot_obj\u001b[39m.\u001b[39mresult\n",
      "File \u001b[0;32m~/.pyenv/versions/3.10.6/envs/MMM-project-lewagon/lib/python3.10/site-packages/pandas/plotting/_matplotlib/core.py:452\u001b[0m, in \u001b[0;36mMPLPlot.generate\u001b[0;34m(self)\u001b[0m\n\u001b[1;32m    450\u001b[0m \u001b[39mself\u001b[39m\u001b[39m.\u001b[39m_compute_plot_data()\n\u001b[1;32m    451\u001b[0m \u001b[39mself\u001b[39m\u001b[39m.\u001b[39m_setup_subplots()\n\u001b[0;32m--> 452\u001b[0m \u001b[39mself\u001b[39;49m\u001b[39m.\u001b[39;49m_make_plot()\n\u001b[1;32m    453\u001b[0m \u001b[39mself\u001b[39m\u001b[39m.\u001b[39m_add_table()\n\u001b[1;32m    454\u001b[0m \u001b[39mself\u001b[39m\u001b[39m.\u001b[39m_make_legend()\n",
      "File \u001b[0;32m~/.pyenv/versions/3.10.6/envs/MMM-project-lewagon/lib/python3.10/site-packages/pandas/plotting/_matplotlib/core.py:1382\u001b[0m, in \u001b[0;36mLinePlot._make_plot\u001b[0;34m(self)\u001b[0m\n\u001b[1;32m   1379\u001b[0m label \u001b[39m=\u001b[39m \u001b[39mself\u001b[39m\u001b[39m.\u001b[39m_mark_right_label(label, index\u001b[39m=\u001b[39mi)\n\u001b[1;32m   1380\u001b[0m kwds[\u001b[39m\"\u001b[39m\u001b[39mlabel\u001b[39m\u001b[39m\"\u001b[39m] \u001b[39m=\u001b[39m label\n\u001b[0;32m-> 1382\u001b[0m newlines \u001b[39m=\u001b[39m plotf(\n\u001b[1;32m   1383\u001b[0m     ax,\n\u001b[1;32m   1384\u001b[0m     x,\n\u001b[1;32m   1385\u001b[0m     y,\n\u001b[1;32m   1386\u001b[0m     style\u001b[39m=\u001b[39;49mstyle,\n\u001b[1;32m   1387\u001b[0m     column_num\u001b[39m=\u001b[39;49mi,\n\u001b[1;32m   1388\u001b[0m     stacking_id\u001b[39m=\u001b[39;49mstacking_id,\n\u001b[1;32m   1389\u001b[0m     is_errorbar\u001b[39m=\u001b[39;49mis_errorbar,\n\u001b[1;32m   1390\u001b[0m     \u001b[39m*\u001b[39;49m\u001b[39m*\u001b[39;49mkwds,\n\u001b[1;32m   1391\u001b[0m )\n\u001b[1;32m   1392\u001b[0m \u001b[39mself\u001b[39m\u001b[39m.\u001b[39m_append_legend_handles_labels(newlines[\u001b[39m0\u001b[39m], label)\n\u001b[1;32m   1394\u001b[0m \u001b[39mif\u001b[39;00m \u001b[39mself\u001b[39m\u001b[39m.\u001b[39m_is_ts_plot():\n\u001b[1;32m   1395\u001b[0m \n\u001b[1;32m   1396\u001b[0m     \u001b[39m# reset of xlim should be used for ts data\u001b[39;00m\n\u001b[1;32m   1397\u001b[0m     \u001b[39m# TODO: GH28021, should find a way to change view limit on xaxis\u001b[39;00m\n",
      "File \u001b[0;32m~/.pyenv/versions/3.10.6/envs/MMM-project-lewagon/lib/python3.10/site-packages/pandas/plotting/_matplotlib/core.py:1555\u001b[0m, in \u001b[0;36mAreaPlot._plot\u001b[0;34m(cls, ax, x, y, style, column_num, stacking_id, is_errorbar, **kwds)\u001b[0m\n\u001b[1;32m   1553\u001b[0m \u001b[39mif\u001b[39;00m column_num \u001b[39m==\u001b[39m \u001b[39m0\u001b[39m:\n\u001b[1;32m   1554\u001b[0m     \u001b[39mcls\u001b[39m\u001b[39m.\u001b[39m_initialize_stacker(ax, stacking_id, \u001b[39mlen\u001b[39m(y))\n\u001b[0;32m-> 1555\u001b[0m y_values \u001b[39m=\u001b[39m \u001b[39mcls\u001b[39;49m\u001b[39m.\u001b[39;49m_get_stacked_values(ax, stacking_id, y, kwds[\u001b[39m\"\u001b[39;49m\u001b[39mlabel\u001b[39;49m\u001b[39m\"\u001b[39;49m])\n\u001b[1;32m   1557\u001b[0m \u001b[39m# need to remove label, because subplots uses mpl legend as it is\u001b[39;00m\n\u001b[1;32m   1558\u001b[0m line_kwds \u001b[39m=\u001b[39m kwds\u001b[39m.\u001b[39mcopy()\n",
      "File \u001b[0;32m~/.pyenv/versions/3.10.6/envs/MMM-project-lewagon/lib/python3.10/site-packages/pandas/plotting/_matplotlib/core.py:1466\u001b[0m, in \u001b[0;36mLinePlot._get_stacked_values\u001b[0;34m(cls, ax, stacking_id, values, label)\u001b[0m\n\u001b[1;32m   1463\u001b[0m \u001b[39melif\u001b[39;00m (values \u001b[39m<\u001b[39m\u001b[39m=\u001b[39m \u001b[39m0\u001b[39m)\u001b[39m.\u001b[39mall():\n\u001b[1;32m   1464\u001b[0m     \u001b[39mreturn\u001b[39;00m ax\u001b[39m.\u001b[39m_stacker_neg_prior[stacking_id] \u001b[39m+\u001b[39m values\n\u001b[0;32m-> 1466\u001b[0m \u001b[39mraise\u001b[39;00m \u001b[39mValueError\u001b[39;00m(\n\u001b[1;32m   1467\u001b[0m     \u001b[39m\"\u001b[39m\u001b[39mWhen stacked is True, each column must be either \u001b[39m\u001b[39m\"\u001b[39m\n\u001b[1;32m   1468\u001b[0m     \u001b[39m\"\u001b[39m\u001b[39mall positive or all negative. \u001b[39m\u001b[39m\"\u001b[39m\n\u001b[1;32m   1469\u001b[0m     \u001b[39mf\u001b[39m\u001b[39m\"\u001b[39m\u001b[39mColumn \u001b[39m\u001b[39m'\u001b[39m\u001b[39m{\u001b[39;00mlabel\u001b[39m}\u001b[39;00m\u001b[39m'\u001b[39m\u001b[39m contains both positive and negative values\u001b[39m\u001b[39m\"\u001b[39m\n\u001b[1;32m   1470\u001b[0m )\n",
      "\u001b[0;31mValueError\u001b[0m: When stacked is True, each column must be either all positive or all negative. Column 'Base' contains both positive and negative values"
     ]
    },
    {
     "data": {
      "image/png": "[encoded data removed]",
      "text/plain": [
       "<Figure size 1600x1000 with 1 Axes>"
      ]
     },
     "metadata": {},
     "output_type": "display_data"
    }
   ],
   "source": [
    "adstock_data = pd.DataFrame(\n",
    "    tuned_model.best_estimator_.named_steps['adstock'].transform(X_simple),\n",
    "    columns=X_simple.columns,\n",
    "    index=X_simple.index\n",
    ")\n",
    "\n",
    "weights = pd.Series(\n",
    "    tuned_model.best_estimator_.named_steps['regression'].coef_[0],\n",
    "    index=X_simple.columns\n",
    ")\n",
    "\n",
    "y = simple_df[['total_sales']]\n",
    "\n",
    "base = tuned_model.best_estimator_.named_steps['regression'].intercept_\n",
    "\n",
    "unadj_contributions = adstock_data.mul(weights).assign(Base=base)\n",
    "adj_contributions = (unadj_contributions\n",
    "                     .div(unadj_contributions.sum(axis=1), axis=0)\n",
    "                     .mul(y['total_sales'], axis=0)\n",
    "                    )\n",
    "\n",
    "ax = (adj_contributions[['Base', 'facebook', 'google']]\n",
    "      .plot.area(\n",
    "          figsize=(16, 10),\n",
    "          linewidth=1,\n",
    "          title='Predicted Sales and Breakdown',\n",
    "          ylabel='Sales',\n",
    "          xlabel='Date'\n",
    "      )\n",
    "     )\n",
    "    \n",
    "handles, labels = ax.get_legend_handles_labels()\n",
    "\n",
    "ax.legend(\n",
    "    handles[::-1], labels[::-1],\n",
    "    title='Channels', loc=\"center left\",\n",
    "    bbox_to_anchor=(1.01, 0.5)\n",
    ")"
   ]
  },
  {
   "cell_type": "code",
   "execution_count": null,
   "metadata": {},
   "outputs": [],
   "source": []
  }
 ],
 "metadata": {
  "kernelspec": {
   "display_name": "MMM-project-lewagon",
   "language": "python",
   "name": "python3"
  },
  "language_info": {
   "codemirror_mode": {
    "name": "ipython",
    "version": 3
   },
   "file_extension": ".py",
   "mimetype": "text/x-python",
   "name": "python",
   "nbconvert_exporter": "python",
   "pygments_lexer": "ipython3",
   "version": "3.10.6"
  },
  "orig_nbformat": 4
 },
 "nbformat": 4,
 "nbformat_minor": 2
}
