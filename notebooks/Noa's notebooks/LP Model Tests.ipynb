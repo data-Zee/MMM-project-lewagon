{
 "cells": [
  {
   "cell_type": "code",
   "execution_count": 123,
   "id": "960cfdaa",
   "metadata": {},
   "outputs": [],
   "source": [
    "import pandas as pd\n",
    "import cvxpy as cp\n",
    "import numpy as  np\n",
    "from mamimo.time_utils import add_time_features, PowerTrend\n",
    "from mamimo.carryover import ExponentialCarryover\n",
    "from mamimo.saturation import ExponentialSaturation\n",
    "import pandas as pd\n",
    "import numpy as np\n",
    "\n",
    "from mamimo.time_utils import add_time_features, PowerTrend\n",
    "from mamimo.carryover import ExponentialCarryover\n",
    "from mamimo.saturation import ExponentialSaturation\n",
    "\n",
    "from sklearn.model_selection import TimeSeriesSplit, GridSearchCV, RandomizedSearchCV, learning_curve\n",
    "from sklearn.preprocessing import FunctionTransformer, OneHotEncoder\n",
    "from sklearn.base import BaseEstimator, TransformerMixin, OneToOneFeatureMixin\n",
    "\n",
    "from sklearn.linear_model import LinearRegression\n",
    "from sklearn.compose import ColumnTransformer\n",
    "from sklearn.pipeline import Pipeline, FeatureUnion\n",
    "\n",
    "from sklearn.metrics import mean_squared_error\n",
    "from sklearn.metrics import mean_absolute_error\n",
    "\n",
    "import holidays\n",
    "\n",
    "import seaborn as sns\n",
    "import matplotlib.pyplot as plt\n",
    "\n",
    "import math\n",
    "from sklearn.preprocessing import MinMaxScaler"
   ]
  },
  {
   "cell_type": "code",
   "execution_count": 3,
   "id": "f1347c50",
   "metadata": {
    "scrolled": true
   },
   "outputs": [],
   "source": [
    "df=pd.read_csv('../../raw_data/df.csv')\n",
    "df.drop(columns=['Unnamed: 0'], inplace=True)\n"
   ]
  },
  {
   "cell_type": "code",
   "execution_count": 4,
   "id": "12ee7602",
   "metadata": {},
   "outputs": [],
   "source": [
    "df['Day'] = pd.to_datetime(df['Day'])\n",
    "df.set_index('Day', inplace=True)"
   ]
  },
  {
   "cell_type": "code",
   "execution_count": 5,
   "id": "84e4c158",
   "metadata": {},
   "outputs": [],
   "source": [
    "df = df.sort_values(by='Day')"
   ]
  },
  {
   "cell_type": "code",
   "execution_count": 6,
   "id": "ee8f0a05",
   "metadata": {},
   "outputs": [
    {
     "data": {
      "text/html": [
       "<div>\n",
       "<style scoped>\n",
       "    .dataframe tbody tr th:only-of-type {\n",
       "        vertical-align: middle;\n",
       "    }\n",
       "\n",
       "    .dataframe tbody tr th {\n",
       "        vertical-align: top;\n",
       "    }\n",
       "\n",
       "    .dataframe thead th {\n",
       "        text-align: right;\n",
       "    }\n",
       "</style>\n",
       "<table border=\"1\" class=\"dataframe\">\n",
       "  <thead>\n",
       "    <tr style=\"text-align: right;\">\n",
       "      <th></th>\n",
       "      <th>orders</th>\n",
       "      <th>total_sales</th>\n",
       "      <th>facebook</th>\n",
       "      <th>google</th>\n",
       "      <th>tiktok</th>\n",
       "      <th>day</th>\n",
       "    </tr>\n",
       "    <tr>\n",
       "      <th>Day</th>\n",
       "      <th></th>\n",
       "      <th></th>\n",
       "      <th></th>\n",
       "      <th></th>\n",
       "      <th></th>\n",
       "      <th></th>\n",
       "    </tr>\n",
       "  </thead>\n",
       "  <tbody>\n",
       "    <tr>\n",
       "      <th>2021-07-01</th>\n",
       "      <td>10</td>\n",
       "      <td>414.85</td>\n",
       "      <td>257.01</td>\n",
       "      <td>1.17</td>\n",
       "      <td>0.00</td>\n",
       "      <td>2021-07-01</td>\n",
       "    </tr>\n",
       "    <tr>\n",
       "      <th>2021-07-02</th>\n",
       "      <td>6</td>\n",
       "      <td>229.95</td>\n",
       "      <td>250.30</td>\n",
       "      <td>0.84</td>\n",
       "      <td>0.00</td>\n",
       "      <td>2021-07-02</td>\n",
       "    </tr>\n",
       "    <tr>\n",
       "      <th>2021-07-03</th>\n",
       "      <td>10</td>\n",
       "      <td>459.89</td>\n",
       "      <td>248.59</td>\n",
       "      <td>0.72</td>\n",
       "      <td>0.00</td>\n",
       "      <td>2021-07-03</td>\n",
       "    </tr>\n",
       "    <tr>\n",
       "      <th>2021-07-04</th>\n",
       "      <td>17</td>\n",
       "      <td>508.36</td>\n",
       "      <td>258.05</td>\n",
       "      <td>0.07</td>\n",
       "      <td>0.00</td>\n",
       "      <td>2021-07-04</td>\n",
       "    </tr>\n",
       "    <tr>\n",
       "      <th>2021-07-05</th>\n",
       "      <td>13</td>\n",
       "      <td>399.88</td>\n",
       "      <td>257.47</td>\n",
       "      <td>0.38</td>\n",
       "      <td>0.00</td>\n",
       "      <td>2021-07-05</td>\n",
       "    </tr>\n",
       "    <tr>\n",
       "      <th>...</th>\n",
       "      <td>...</td>\n",
       "      <td>...</td>\n",
       "      <td>...</td>\n",
       "      <td>...</td>\n",
       "      <td>...</td>\n",
       "      <td>...</td>\n",
       "    </tr>\n",
       "    <tr>\n",
       "      <th>2023-08-20</th>\n",
       "      <td>294</td>\n",
       "      <td>13616.97</td>\n",
       "      <td>2148.53</td>\n",
       "      <td>466.56</td>\n",
       "      <td>368.86</td>\n",
       "      <td>2023-08-20</td>\n",
       "    </tr>\n",
       "    <tr>\n",
       "      <th>2023-08-21</th>\n",
       "      <td>356</td>\n",
       "      <td>15348.42</td>\n",
       "      <td>2210.01</td>\n",
       "      <td>400.58</td>\n",
       "      <td>391.14</td>\n",
       "      <td>2023-08-21</td>\n",
       "    </tr>\n",
       "    <tr>\n",
       "      <th>2023-08-22</th>\n",
       "      <td>150</td>\n",
       "      <td>6054.53</td>\n",
       "      <td>1335.84</td>\n",
       "      <td>289.46</td>\n",
       "      <td>218.61</td>\n",
       "      <td>2023-08-22</td>\n",
       "    </tr>\n",
       "    <tr>\n",
       "      <th>2023-08-23</th>\n",
       "      <td>130</td>\n",
       "      <td>4810.67</td>\n",
       "      <td>1315.81</td>\n",
       "      <td>275.86</td>\n",
       "      <td>90.21</td>\n",
       "      <td>2023-08-23</td>\n",
       "    </tr>\n",
       "    <tr>\n",
       "      <th>2023-08-24</th>\n",
       "      <td>128</td>\n",
       "      <td>4889.20</td>\n",
       "      <td>1487.41</td>\n",
       "      <td>299.70</td>\n",
       "      <td>76.87</td>\n",
       "      <td>2023-08-24</td>\n",
       "    </tr>\n",
       "  </tbody>\n",
       "</table>\n",
       "<p>785 rows × 6 columns</p>\n",
       "</div>"
      ],
      "text/plain": [
       "            orders  total_sales  facebook  google  tiktok        day\n",
       "Day                                                                 \n",
       "2021-07-01      10       414.85    257.01    1.17    0.00 2021-07-01\n",
       "2021-07-02       6       229.95    250.30    0.84    0.00 2021-07-02\n",
       "2021-07-03      10       459.89    248.59    0.72    0.00 2021-07-03\n",
       "2021-07-04      17       508.36    258.05    0.07    0.00 2021-07-04\n",
       "2021-07-05      13       399.88    257.47    0.38    0.00 2021-07-05\n",
       "...            ...          ...       ...     ...     ...        ...\n",
       "2023-08-20     294     13616.97   2148.53  466.56  368.86 2023-08-20\n",
       "2023-08-21     356     15348.42   2210.01  400.58  391.14 2023-08-21\n",
       "2023-08-22     150      6054.53   1335.84  289.46  218.61 2023-08-22\n",
       "2023-08-23     130      4810.67   1315.81  275.86   90.21 2023-08-23\n",
       "2023-08-24     128      4889.20   1487.41  299.70   76.87 2023-08-24\n",
       "\n",
       "[785 rows x 6 columns]"
      ]
     },
     "execution_count": 6,
     "metadata": {},
     "output_type": "execute_result"
    }
   ],
   "source": [
    "df = df.rename(columns={\"fb_costs\": \"facebook\", \"google_costs\": \"google\", \"tt_costs\": \"tiktok\"})\n",
    "df['day'] = df.index # we will use this in our column transformer\n",
    "df = df.drop(columns = ['fb_impressions', 'fb_clicks', 'google_impressions', 'google_clicks', 'tt_impressions', 'tt_clicks'])\n",
    "df"
   ]
  },
  {
   "cell_type": "code",
   "execution_count": 1,
   "id": "333270ac",
   "metadata": {},
   "outputs": [],
   "source": [
    "def minmax_fb(x):\n",
    "    scaled_fb = ((x - 0)/(2294.69 - 0))\n",
    "    return scaled_fb\n",
    "def minmax_gg(x):\n",
    "    scaled_gg = ((x - 0)/(480.66 - 0))\n",
    "    return scaled_gg\n",
    "def minmax_tt(x):\n",
    "    scaled_tt = ((x - 0)/(840.37- 0))\n",
    "    return scaled_tt"
   ]
  },
  {
   "cell_type": "code",
   "execution_count": 2,
   "id": "7c0f5a6a",
   "metadata": {},
   "outputs": [
    {
     "data": {
      "text/plain": [
       "0.0021789435610038827"
      ]
     },
     "execution_count": 2,
     "metadata": {},
     "output_type": "execute_result"
    }
   ],
   "source": [
    "minmax_fb(5)"
   ]
  },
  {
   "cell_type": "code",
   "execution_count": 35,
   "id": "a71685c5",
   "metadata": {},
   "outputs": [],
   "source": [
    "n_splits = 5  # Number of splits for cross-validation\n",
    "tscv = TimeSeriesSplit(n_splits=n_splits)\n",
    "\n",
    "for train_index, test_index in tscv.split(df):\n",
    "    train_df = df.iloc[train_index]\n",
    "    test_df = df.iloc[test_index]\n",
    "\n",
    "y_train = train_df['total_sales']\n",
    "X_train = train_df.drop(columns = ['total_sales', 'orders'])\n",
    "\n",
    "\n",
    "y_test = test_df['total_sales']\n",
    "X_test = test_df.drop(columns = ['total_sales', 'orders'])"
   ]
  },
  {
   "cell_type": "code",
   "execution_count": 36,
   "id": "43af30c3",
   "metadata": {
    "scrolled": true
   },
   "outputs": [
    {
     "data": {
      "text/html": [
       "<div>\n",
       "<style scoped>\n",
       "    .dataframe tbody tr th:only-of-type {\n",
       "        vertical-align: middle;\n",
       "    }\n",
       "\n",
       "    .dataframe tbody tr th {\n",
       "        vertical-align: top;\n",
       "    }\n",
       "\n",
       "    .dataframe thead th {\n",
       "        text-align: right;\n",
       "    }\n",
       "</style>\n",
       "<table border=\"1\" class=\"dataframe\">\n",
       "  <thead>\n",
       "    <tr style=\"text-align: right;\">\n",
       "      <th></th>\n",
       "      <th>facebook</th>\n",
       "      <th>google</th>\n",
       "      <th>tiktok</th>\n",
       "      <th>day</th>\n",
       "    </tr>\n",
       "    <tr>\n",
       "      <th>Day</th>\n",
       "      <th></th>\n",
       "      <th></th>\n",
       "      <th></th>\n",
       "      <th></th>\n",
       "    </tr>\n",
       "  </thead>\n",
       "  <tbody>\n",
       "    <tr>\n",
       "      <th>2021-07-01</th>\n",
       "      <td>257.01</td>\n",
       "      <td>1.17</td>\n",
       "      <td>0.00</td>\n",
       "      <td>2021-07-01</td>\n",
       "    </tr>\n",
       "    <tr>\n",
       "      <th>2021-07-02</th>\n",
       "      <td>250.30</td>\n",
       "      <td>0.84</td>\n",
       "      <td>0.00</td>\n",
       "      <td>2021-07-02</td>\n",
       "    </tr>\n",
       "    <tr>\n",
       "      <th>2021-07-03</th>\n",
       "      <td>248.59</td>\n",
       "      <td>0.72</td>\n",
       "      <td>0.00</td>\n",
       "      <td>2021-07-03</td>\n",
       "    </tr>\n",
       "    <tr>\n",
       "      <th>2021-07-04</th>\n",
       "      <td>258.05</td>\n",
       "      <td>0.07</td>\n",
       "      <td>0.00</td>\n",
       "      <td>2021-07-04</td>\n",
       "    </tr>\n",
       "    <tr>\n",
       "      <th>2021-07-05</th>\n",
       "      <td>257.47</td>\n",
       "      <td>0.38</td>\n",
       "      <td>0.00</td>\n",
       "      <td>2021-07-05</td>\n",
       "    </tr>\n",
       "    <tr>\n",
       "      <th>...</th>\n",
       "      <td>...</td>\n",
       "      <td>...</td>\n",
       "      <td>...</td>\n",
       "      <td>...</td>\n",
       "    </tr>\n",
       "    <tr>\n",
       "      <th>2023-04-12</th>\n",
       "      <td>885.33</td>\n",
       "      <td>208.52</td>\n",
       "      <td>209.03</td>\n",
       "      <td>2023-04-12</td>\n",
       "    </tr>\n",
       "    <tr>\n",
       "      <th>2023-04-13</th>\n",
       "      <td>882.17</td>\n",
       "      <td>186.47</td>\n",
       "      <td>208.82</td>\n",
       "      <td>2023-04-13</td>\n",
       "    </tr>\n",
       "    <tr>\n",
       "      <th>2023-04-14</th>\n",
       "      <td>662.08</td>\n",
       "      <td>160.69</td>\n",
       "      <td>216.38</td>\n",
       "      <td>2023-04-14</td>\n",
       "    </tr>\n",
       "    <tr>\n",
       "      <th>2023-04-15</th>\n",
       "      <td>481.71</td>\n",
       "      <td>149.16</td>\n",
       "      <td>239.65</td>\n",
       "      <td>2023-04-15</td>\n",
       "    </tr>\n",
       "    <tr>\n",
       "      <th>2023-04-16</th>\n",
       "      <td>774.89</td>\n",
       "      <td>227.99</td>\n",
       "      <td>239.66</td>\n",
       "      <td>2023-04-16</td>\n",
       "    </tr>\n",
       "  </tbody>\n",
       "</table>\n",
       "<p>655 rows × 4 columns</p>\n",
       "</div>"
      ],
      "text/plain": [
       "            facebook  google  tiktok        day\n",
       "Day                                            \n",
       "2021-07-01    257.01    1.17    0.00 2021-07-01\n",
       "2021-07-02    250.30    0.84    0.00 2021-07-02\n",
       "2021-07-03    248.59    0.72    0.00 2021-07-03\n",
       "2021-07-04    258.05    0.07    0.00 2021-07-04\n",
       "2021-07-05    257.47    0.38    0.00 2021-07-05\n",
       "...              ...     ...     ...        ...\n",
       "2023-04-12    885.33  208.52  209.03 2023-04-12\n",
       "2023-04-13    882.17  186.47  208.82 2023-04-13\n",
       "2023-04-14    662.08  160.69  216.38 2023-04-14\n",
       "2023-04-15    481.71  149.16  239.65 2023-04-15\n",
       "2023-04-16    774.89  227.99  239.66 2023-04-16\n",
       "\n",
       "[655 rows x 4 columns]"
      ]
     },
     "execution_count": 36,
     "metadata": {},
     "output_type": "execute_result"
    }
   ],
   "source": [
    "X_train"
   ]
  },
  {
   "cell_type": "code",
   "execution_count": 9,
   "id": "d06555a9",
   "metadata": {},
   "outputs": [],
   "source": [
    "X_train[\"facebook\"] = X_train[\"facebook\"].map(lambda x: math.log(x) if x != 0 else 0)"
   ]
  },
  {
   "cell_type": "code",
   "execution_count": 10,
   "id": "8bd4d5a9",
   "metadata": {},
   "outputs": [],
   "source": [
    "X_train[\"google\"] = X_train[\"google\"].map(lambda x: math.log(x) if x != 0 else 0)"
   ]
  },
  {
   "cell_type": "code",
   "execution_count": 11,
   "id": "106867d3",
   "metadata": {},
   "outputs": [],
   "source": [
    "X_train[\"tiktok\"] = X_train[\"tiktok\"].map(lambda x: math.log(x) if x != 0 else 0)"
   ]
  },
  {
   "cell_type": "code",
   "execution_count": 37,
   "id": "8a4b9265",
   "metadata": {},
   "outputs": [],
   "source": [
    "X_train.drop(columns=['day'], inplace=True)"
   ]
  },
  {
   "cell_type": "code",
   "execution_count": 14,
   "id": "98e61862",
   "metadata": {},
   "outputs": [],
   "source": [
    "X_test[\"facebook\"] = X_test[\"facebook\"].map(lambda x: math.log(x) if x != 0 else 0)"
   ]
  },
  {
   "cell_type": "code",
   "execution_count": 15,
   "id": "e5224b32",
   "metadata": {},
   "outputs": [],
   "source": [
    "X_test[\"google\"] = X_test[\"google\"].map(lambda x: math.log(x) if x != 0 else 0)"
   ]
  },
  {
   "cell_type": "code",
   "execution_count": 16,
   "id": "2aa81ae4",
   "metadata": {},
   "outputs": [],
   "source": [
    "X_test[\"tiktok\"] = X_test[\"tiktok\"].map(lambda x: math.log(x) if x != 0 else 0)"
   ]
  },
  {
   "cell_type": "code",
   "execution_count": 40,
   "id": "0e750129",
   "metadata": {},
   "outputs": [],
   "source": [
    "X_test.drop(columns=['day'], inplace=True)"
   ]
  },
  {
   "cell_type": "code",
   "execution_count": 25,
   "id": "03253ba1",
   "metadata": {},
   "outputs": [
    {
     "data": {
      "text/plain": [
       "Day\n",
       "2023-04-17     3121.57\n",
       "2023-04-18     3851.15\n",
       "2023-04-19     2858.61\n",
       "2023-04-20     3623.44\n",
       "2023-04-21     1804.11\n",
       "                ...   \n",
       "2023-08-20    13616.97\n",
       "2023-08-21    15348.42\n",
       "2023-08-22     6054.53\n",
       "2023-08-23     4810.67\n",
       "2023-08-24     4889.20\n",
       "Name: total_sales, Length: 130, dtype: float64"
      ]
     },
     "execution_count": 25,
     "metadata": {},
     "output_type": "execute_result"
    }
   ],
   "source": [
    "y_test"
   ]
  },
  {
   "cell_type": "code",
   "execution_count": 38,
   "id": "330b979e",
   "metadata": {},
   "outputs": [
    {
     "data": {
      "text/html": [
       "<style>#sk-container-id-3 {color: black;}#sk-container-id-3 pre{padding: 0;}#sk-container-id-3 div.sk-toggleable {background-color: white;}#sk-container-id-3 label.sk-toggleable__label {cursor: pointer;display: block;width: 100%;margin-bottom: 0;padding: 0.3em;box-sizing: border-box;text-align: center;}#sk-container-id-3 label.sk-toggleable__label-arrow:before {content: \"▸\";float: left;margin-right: 0.25em;color: #696969;}#sk-container-id-3 label.sk-toggleable__label-arrow:hover:before {color: black;}#sk-container-id-3 div.sk-estimator:hover label.sk-toggleable__label-arrow:before {color: black;}#sk-container-id-3 div.sk-toggleable__content {max-height: 0;max-width: 0;overflow: hidden;text-align: left;background-color: #f0f8ff;}#sk-container-id-3 div.sk-toggleable__content pre {margin: 0.2em;color: black;border-radius: 0.25em;background-color: #f0f8ff;}#sk-container-id-3 input.sk-toggleable__control:checked~div.sk-toggleable__content {max-height: 200px;max-width: 100%;overflow: auto;}#sk-container-id-3 input.sk-toggleable__control:checked~label.sk-toggleable__label-arrow:before {content: \"▾\";}#sk-container-id-3 div.sk-estimator input.sk-toggleable__control:checked~label.sk-toggleable__label {background-color: #d4ebff;}#sk-container-id-3 div.sk-label input.sk-toggleable__control:checked~label.sk-toggleable__label {background-color: #d4ebff;}#sk-container-id-3 input.sk-hidden--visually {border: 0;clip: rect(1px 1px 1px 1px);clip: rect(1px, 1px, 1px, 1px);height: 1px;margin: -1px;overflow: hidden;padding: 0;position: absolute;width: 1px;}#sk-container-id-3 div.sk-estimator {font-family: monospace;background-color: #f0f8ff;border: 1px dotted black;border-radius: 0.25em;box-sizing: border-box;margin-bottom: 0.5em;}#sk-container-id-3 div.sk-estimator:hover {background-color: #d4ebff;}#sk-container-id-3 div.sk-parallel-item::after {content: \"\";width: 100%;border-bottom: 1px solid gray;flex-grow: 1;}#sk-container-id-3 div.sk-label:hover label.sk-toggleable__label {background-color: #d4ebff;}#sk-container-id-3 div.sk-serial::before {content: \"\";position: absolute;border-left: 1px solid gray;box-sizing: border-box;top: 0;bottom: 0;left: 50%;z-index: 0;}#sk-container-id-3 div.sk-serial {display: flex;flex-direction: column;align-items: center;background-color: white;padding-right: 0.2em;padding-left: 0.2em;position: relative;}#sk-container-id-3 div.sk-item {position: relative;z-index: 1;}#sk-container-id-3 div.sk-parallel {display: flex;align-items: stretch;justify-content: center;background-color: white;position: relative;}#sk-container-id-3 div.sk-item::before, #sk-container-id-3 div.sk-parallel-item::before {content: \"\";position: absolute;border-left: 1px solid gray;box-sizing: border-box;top: 0;bottom: 0;left: 50%;z-index: -1;}#sk-container-id-3 div.sk-parallel-item {display: flex;flex-direction: column;z-index: 1;position: relative;background-color: white;}#sk-container-id-3 div.sk-parallel-item:first-child::after {align-self: flex-end;width: 50%;}#sk-container-id-3 div.sk-parallel-item:last-child::after {align-self: flex-start;width: 50%;}#sk-container-id-3 div.sk-parallel-item:only-child::after {width: 0;}#sk-container-id-3 div.sk-dashed-wrapped {border: 1px dashed gray;margin: 0 0.4em 0.5em 0.4em;box-sizing: border-box;padding-bottom: 0.4em;background-color: white;}#sk-container-id-3 div.sk-label label {font-family: monospace;font-weight: bold;display: inline-block;line-height: 1.2em;}#sk-container-id-3 div.sk-label-container {text-align: center;}#sk-container-id-3 div.sk-container {/* jupyter's `normalize.less` sets `[hidden] { display: none; }` but bootstrap.min.css set `[hidden] { display: none !important; }` so we also need the `!important` here to be able to override the default hidden behavior on the sphinx rendered scikit-learn.org. See: https://github.com/scikit-learn/scikit-learn/issues/21755 */display: inline-block !important;position: relative;}#sk-container-id-3 div.sk-text-repr-fallback {display: none;}</style><div id=\"sk-container-id-3\" class=\"sk-top-container\"><div class=\"sk-text-repr-fallback\"><pre>LinearRegression()</pre><b>In a Jupyter environment, please rerun this cell to show the HTML representation or trust the notebook. <br />On GitHub, the HTML representation is unable to render, please try loading this page with nbviewer.org.</b></div><div class=\"sk-container\" hidden><div class=\"sk-item\"><div class=\"sk-estimator sk-toggleable\"><input class=\"sk-toggleable__control sk-hidden--visually\" id=\"sk-estimator-id-3\" type=\"checkbox\" checked><label for=\"sk-estimator-id-3\" class=\"sk-toggleable__label sk-toggleable__label-arrow\">LinearRegression</label><div class=\"sk-toggleable__content\"><pre>LinearRegression()</pre></div></div></div></div></div>"
      ],
      "text/plain": [
       "LinearRegression()"
      ]
     },
     "execution_count": 38,
     "metadata": {},
     "output_type": "execute_result"
    }
   ],
   "source": [
    "model = LinearRegression()\n",
    "model.fit(X_train, y_train)"
   ]
  },
  {
   "cell_type": "code",
   "execution_count": 41,
   "id": "7f548570",
   "metadata": {},
   "outputs": [
    {
     "data": {
      "text/plain": [
       "0.31491390570371014"
      ]
     },
     "execution_count": 41,
     "metadata": {},
     "output_type": "execute_result"
    }
   ],
   "source": [
    "model.score(X_test, y_test)"
   ]
  },
  {
   "cell_type": "code",
   "execution_count": 73,
   "id": "48f3af4b",
   "metadata": {
    "scrolled": true
   },
   "outputs": [
    {
     "name": "stdout",
     "output_type": "stream",
     "text": [
      "Collecting cvxpy\n",
      "  Obtaining dependency information for cvxpy from https://files.pythonhosted.org/packages/ed/42/25b2cacd49a10547d36c530df400da1729511dbc8f5d725712130038cc65/cvxpy-1.3.2-cp310-cp310-macosx_10_9_x86_64.whl.metadata\n",
      "  Downloading cvxpy-1.3.2-cp310-cp310-macosx_10_9_x86_64.whl.metadata (8.7 kB)\n",
      "Collecting osqp>=0.4.1 (from cvxpy)\n",
      "  Obtaining dependency information for osqp>=0.4.1 from https://files.pythonhosted.org/packages/4c/5f/7fc8e85b247b473f7e787fefa8eb7b1b6357f4e3c4ef2d5932f0fac49028/osqp-0.6.3-cp310-cp310-macosx_10_9_x86_64.whl.metadata\n",
      "  Downloading osqp-0.6.3-cp310-cp310-macosx_10_9_x86_64.whl.metadata (1.7 kB)\n",
      "Collecting ecos>=2 (from cvxpy)\n",
      "  Downloading ecos-2.0.12-cp310-cp310-macosx_10_9_x86_64.whl (90 kB)\n",
      "\u001b[2K     \u001b[90m━━━━━━━━━━━━━━━━━━━━━━━━━━━━━━━━━━━━━━━━\u001b[0m \u001b[32m90.6/90.6 kB\u001b[0m \u001b[31m1.6 MB/s\u001b[0m eta \u001b[36m0:00:00\u001b[0ma \u001b[36m0:00:01\u001b[0m\n",
      "\u001b[?25hCollecting scs>=1.1.6 (from cvxpy)\n",
      "  Downloading scs-3.2.3-cp310-cp310-macosx_10_9_x86_64.whl (11.6 MB)\n",
      "\u001b[2K     \u001b[90m━━━━━━━━━━━━━━━━━━━━━━━━━━━━━━━━━━━━━━━━\u001b[0m \u001b[32m11.6/11.6 MB\u001b[0m \u001b[31m8.5 MB/s\u001b[0m eta \u001b[36m0:00:00\u001b[0m00:01\u001b[0m00:01\u001b[0m\n",
      "\u001b[?25hRequirement already satisfied: numpy>=1.15 in /Users/noaruccius/.pyenv/versions/3.10.6/envs/MMM-project-lewagon/lib/python3.10/site-packages (from cvxpy) (1.25.2)\n",
      "Requirement already satisfied: scipy>=1.1.0 in /Users/noaruccius/.pyenv/versions/3.10.6/envs/MMM-project-lewagon/lib/python3.10/site-packages (from cvxpy) (1.11.2)\n",
      "Collecting setuptools>65.5.1 (from cvxpy)\n",
      "  Obtaining dependency information for setuptools>65.5.1 from https://files.pythonhosted.org/packages/4f/ab/0bcfebdfc3bfa8554b2b2c97a555569c4c1ebc74ea288741ea8326c51906/setuptools-68.1.2-py3-none-any.whl.metadata\n",
      "  Using cached setuptools-68.1.2-py3-none-any.whl.metadata (6.2 kB)\n",
      "Collecting qdldl (from osqp>=0.4.1->cvxpy)\n",
      "  Obtaining dependency information for qdldl from https://files.pythonhosted.org/packages/7b/e9/d995f55cb7599a5cb8b2c8720263b78ae7e6f9b6ecaa6cd1ca96879147d0/qdldl-0.1.7.post0-cp310-cp310-macosx_10_9_x86_64.whl.metadata\n",
      "  Downloading qdldl-0.1.7.post0-cp310-cp310-macosx_10_9_x86_64.whl.metadata (1.7 kB)\n",
      "Downloading cvxpy-1.3.2-cp310-cp310-macosx_10_9_x86_64.whl (936 kB)\n",
      "\u001b[2K   \u001b[90m━━━━━━━━━━━━━━━━━━━━━━━━━━━━━━━━━━━━━━━━\u001b[0m \u001b[32m936.2/936.2 kB\u001b[0m \u001b[31m15.7 MB/s\u001b[0m eta \u001b[36m0:00:00\u001b[0m00:01\u001b[0m\n",
      "\u001b[?25hDownloading osqp-0.6.3-cp310-cp310-macosx_10_9_x86_64.whl (252 kB)\n",
      "\u001b[2K   \u001b[90m━━━━━━━━━━━━━━━━━━━━━━━━━━━━━━━━━━━━━━━━\u001b[0m \u001b[32m252.6/252.6 kB\u001b[0m \u001b[31m6.6 MB/s\u001b[0m eta \u001b[36m0:00:00\u001b[0mta \u001b[36m0:00:01\u001b[0m\n",
      "\u001b[?25hUsing cached setuptools-68.1.2-py3-none-any.whl (805 kB)\n",
      "Downloading qdldl-0.1.7.post0-cp310-cp310-macosx_10_9_x86_64.whl (105 kB)\n",
      "\u001b[2K   \u001b[90m━━━━━━━━━━━━━━━━━━━━━━━━━━━━━━━━━━━━━━━━\u001b[0m \u001b[32m105.2/105.2 kB\u001b[0m \u001b[31m3.1 MB/s\u001b[0m eta \u001b[36m0:00:00\u001b[0m\n",
      "\u001b[?25hInstalling collected packages: setuptools, scs, qdldl, ecos, osqp, cvxpy\n",
      "  Attempting uninstall: setuptools\n",
      "    Found existing installation: setuptools 63.2.0\n",
      "    Uninstalling setuptools-63.2.0:\n",
      "      Successfully uninstalled setuptools-63.2.0\n",
      "Successfully installed cvxpy-1.3.2 ecos-2.0.12 osqp-0.6.3 qdldl-0.1.7.post0 scs-3.2.3 setuptools-68.1.2\n"
     ]
    }
   ],
   "source": [
    "! pip install cvxpy"
   ]
  },
  {
   "cell_type": "code",
   "execution_count": null,
   "id": "442e5a87",
   "metadata": {},
   "outputs": [],
   "source": []
  },
  {
   "cell_type": "code",
   "execution_count": 99,
   "id": "0ff0cbfc",
   "metadata": {},
   "outputs": [],
   "source": [
    "df=pd.DataFrame([pd.to_datetime('2023-09-05')])\n",
    "df.set_index(0, inplace=True)\n",
    "df['day']='2023-09-05'\n",
    "df['day']=pd.to_datetime(df['day'])"
   ]
  },
  {
   "cell_type": "code",
   "execution_count": 100,
   "id": "04db4510",
   "metadata": {},
   "outputs": [],
   "source": [
    "class AddHolidaysTransformer(BaseEstimator, TransformerMixin):\n",
    "    def fit(self, X, y=None):\n",
    "        # This transformer doesn't need to learn any parameters during fitting,\n",
    "        # so we simply return self.\n",
    "        return self\n",
    "\n",
    "    def transform(self, X):\n",
    "        \"\"\"Creates a new column with row value = 1 if the day is a Friday or Saturday and 0 if not.\"\"\"\n",
    "        df = X.copy()  # Create a copy of the input DataFrame to avoid modifying it directly\n",
    "        de_holiday_list = []\n",
    "        for holiday in holidays.Germany(years=[2021,2022,2023]).items():\n",
    "            de_holiday_list.append(holiday)\n",
    "        de_holidays_df = pd.DataFrame(de_holiday_list, columns=[\"date\", \"holiday\"])\n",
    "        de_holidays_df['date'] = pd.to_datetime(de_holidays_df['date'])\n",
    "        de_holidays_df.set_index('date', inplace=True)\n",
    "        \n",
    "        at_holiday_list = []\n",
    "        for holiday in holidays.Austria(years=[2021,2022,2023]).items():\n",
    "            at_holiday_list.append(holiday)\n",
    "        at_holidays_df = pd.DataFrame(at_holiday_list, columns=[\"date\", \"holiday\"])\n",
    "        at_holidays_df['date'] = pd.to_datetime(at_holidays_df['date'])\n",
    "        at_holidays_df.set_index('date', inplace=True)\n",
    "\n",
    "        # add DE holidays to df\n",
    "        merged_df = df.merge(de_holidays_df, how='left', left_index=True, right_index=True)\n",
    "        merged_df['de_holiday'] = merged_df.index.isin(de_holidays_df.index).astype(int)\n",
    "        merged_df.drop(columns=['holiday'], inplace=True)\n",
    "        \n",
    "        # add AT holidays to df\n",
    "        at_holidays_df['at_holiday'] = 1 # add a 1 column to austrian holidays dataframe to help us merge with DE holidays\n",
    "        merged_df = merged_df.merge(at_holidays_df[['at_holiday']], how='left', left_index=True, right_index=True)\n",
    "        merged_df.head() # creates two columns (at_holiday_x, at_holiday_y), we only need one\n",
    "        merged_df['at_holiday'].fillna(0, inplace=True) # replace NaN (no holiday) with 0\n",
    "        merged_df['at_holiday'] = merged_df['at_holiday'].astype(int) # convert 1 and 0 to integers\n",
    "        \n",
    "        # combine columns\n",
    "        merged_df['holiday'] = (merged_df['at_holiday'] | merged_df['de_holiday']).astype(int)\n",
    "        merged_df = merged_df.drop(columns = ['de_holiday', 'at_holiday']) # drop individual DE and AT rows\n",
    "        \n",
    "        return merged_df[['holiday']]#.reset_index(drop=True)\n"
   ]
  },
  {
   "cell_type": "code",
   "execution_count": 101,
   "id": "ca614614",
   "metadata": {},
   "outputs": [],
   "source": [
    "class AddWeekendsTransformer(BaseEstimator, TransformerMixin):\n",
    "    def fit(self, X, y=None):\n",
    "        # This transformer doesn't need to learn any parameters during fitting,\n",
    "        # so we simply return self.\n",
    "        return self\n",
    "\n",
    "    def transform(self, X):\n",
    "        \"\"\"Creates a new column with row value = 1 if the day is a Friday or Saturday and 0 if not.\"\"\"\n",
    "        df = X.copy()  # Create a copy of the input DataFrame to avoid modifying it directly\n",
    "        weekday_values = df.index.weekday\n",
    "        df['fri_sat'] = ((weekday_values == 4) | (weekday_values == 5)).astype(int)\n",
    "        return df[['fri_sat']]"
   ]
  },
  {
   "cell_type": "code",
   "execution_count": 102,
   "id": "8ab3999f",
   "metadata": {},
   "outputs": [],
   "source": [
    "class AddMonthsTransformer(BaseEstimator, TransformerMixin):\n",
    "    def fit(self, X, y=None):\n",
    "        # This transformer doesn't need to learn any parameters during fitting,\n",
    "        # so we simply return self.\n",
    "        return self\n",
    "\n",
    "    def transform(self, X):\n",
    "        df = X.copy()  # Create a copy of the input DataFrame to avoid modifying it directly\n",
    "        df = (df\n",
    "        .pipe(add_time_features, month=True)\n",
    "        )\n",
    "        \n",
    "        months_in_a_year = 12\n",
    "\n",
    "        df['sin_MonthYear'] = np.sin(2*np.pi*(df['month'])/months_in_a_year)\n",
    "        df['cos_MonthYear'] = np.cos(2*np.pi*(df['month'])/months_in_a_year)\n",
    "        df.drop(columns=['month'], inplace=True)\n",
    "        \n",
    "        return df[['sin_MonthYear', 'cos_MonthYear']]"
   ]
  },
  {
   "cell_type": "code",
   "execution_count": 103,
   "id": "de666716",
   "metadata": {},
   "outputs": [
    {
     "data": {
      "text/html": [
       "<div>\n",
       "<style scoped>\n",
       "    .dataframe tbody tr th:only-of-type {\n",
       "        vertical-align: middle;\n",
       "    }\n",
       "\n",
       "    .dataframe tbody tr th {\n",
       "        vertical-align: top;\n",
       "    }\n",
       "\n",
       "    .dataframe thead th {\n",
       "        text-align: right;\n",
       "    }\n",
       "</style>\n",
       "<table border=\"1\" class=\"dataframe\">\n",
       "  <thead>\n",
       "    <tr style=\"text-align: right;\">\n",
       "      <th></th>\n",
       "      <th>day</th>\n",
       "    </tr>\n",
       "    <tr>\n",
       "      <th>0</th>\n",
       "      <th></th>\n",
       "    </tr>\n",
       "  </thead>\n",
       "  <tbody>\n",
       "    <tr>\n",
       "      <th>2023-09-05</th>\n",
       "      <td>2023-09-05</td>\n",
       "    </tr>\n",
       "  </tbody>\n",
       "</table>\n",
       "</div>"
      ],
      "text/plain": [
       "                  day\n",
       "0                    \n",
       "2023-09-05 2023-09-05"
      ]
     },
     "execution_count": 103,
     "metadata": {},
     "output_type": "execute_result"
    }
   ],
   "source": [
    "df"
   ]
  },
  {
   "cell_type": "code",
   "execution_count": 104,
   "id": "9b7f8a97",
   "metadata": {},
   "outputs": [],
   "source": [
    "time_features = ColumnTransformer(\n",
    "    [\n",
    "     ('holidays_pipe', Pipeline([\n",
    "            ('add_holidays', AddHolidaysTransformer())\n",
    "     ]), ['day']),\n",
    "     ('weekends_pipe', Pipeline([\n",
    "            ('add_weekends', AddWeekendsTransformer())\n",
    "     ]), ['day']),\n",
    "     ('months_pipe', Pipeline([\n",
    "            ('add_months', AddMonthsTransformer())\n",
    "     ]), ['day'])])"
   ]
  },
  {
   "cell_type": "code",
   "execution_count": 105,
   "id": "07acadd3",
   "metadata": {},
   "outputs": [
    {
     "data": {
      "text/html": [
       "<div>\n",
       "<style scoped>\n",
       "    .dataframe tbody tr th:only-of-type {\n",
       "        vertical-align: middle;\n",
       "    }\n",
       "\n",
       "    .dataframe tbody tr th {\n",
       "        vertical-align: top;\n",
       "    }\n",
       "\n",
       "    .dataframe thead th {\n",
       "        text-align: right;\n",
       "    }\n",
       "</style>\n",
       "<table border=\"1\" class=\"dataframe\">\n",
       "  <thead>\n",
       "    <tr style=\"text-align: right;\">\n",
       "      <th></th>\n",
       "      <th>holiday</th>\n",
       "      <th>weekends</th>\n",
       "      <th>sin</th>\n",
       "      <th>cos</th>\n",
       "    </tr>\n",
       "  </thead>\n",
       "  <tbody>\n",
       "    <tr>\n",
       "      <th>0</th>\n",
       "      <td>0.0</td>\n",
       "      <td>0.0</td>\n",
       "      <td>-1.0</td>\n",
       "      <td>-1.836970e-16</td>\n",
       "    </tr>\n",
       "  </tbody>\n",
       "</table>\n",
       "</div>"
      ],
      "text/plain": [
       "   holiday  weekends  sin           cos\n",
       "0      0.0       0.0 -1.0 -1.836970e-16"
      ]
     },
     "execution_count": 105,
     "metadata": {},
     "output_type": "execute_result"
    }
   ],
   "source": [
    "transformed_df = time_features.fit_transform(df)\n",
    "transformed_df = pd.DataFrame(transformed_df, columns = ['holiday', 'weekends', 'sin', 'cos'])\n",
    "transformed_df"
   ]
  },
  {
   "cell_type": "code",
   "execution_count": 120,
   "id": "55132ec3",
   "metadata": {},
   "outputs": [],
   "source": [
    "TOTAL_DAILY_BUDGET= 5000\n"
   ]
  },
  {
   "cell_type": "code",
   "execution_count": 131,
   "id": "980e707e",
   "metadata": {
    "scrolled": true
   },
   "outputs": [],
   "source": [
    "\n",
    "import cvxpy as cp\n",
    "\n",
    "# Variables\n",
    "google   = cp.Variable(pos=True)\n",
    "facebook = cp.Variable(pos=True)\n",
    "tiktok  = cp.Variable(pos=True)\n",
    "\n",
    "# Constraint\n",
    "constraint = [google + facebook + tiktok <= TOTAL_DAILY_BUDGET, google>=TOTAL_DAILY_BUDGET*0.04769543069031596, facebook>=TOTAL_DAILY_BUDGET*0.16612285992471154, tiktok>=TOTAL_DAILY_BUDGET*0.0361817093849725]\n",
    "              \n",
    "betas=[-164.052961,-372.686127,265.076699,-23.341808,1.144179,5.504117,1.483814]\n",
    "intercept=238.56530283612096\n",
    "# Objective\n",
    "\n",
    "min_ma=MinMaxScaler()\n",
    "obj= cp.Maximize(intercept+betas[0] * transformed_df['holiday'][0] +betas[1] * transformed_df['weekends'][0] +betas[2] *transformed_df['sin'][0]+ betas[3] *transformed_df['cos'][0]+ betas[4] *(facebook)+betas[5] *(google)+betas[5] *(tiktok))\n",
    "                 "
   ]
  },
  {
   "cell_type": "code",
   "execution_count": 132,
   "id": "7f602f78",
   "metadata": {},
   "outputs": [
    {
     "name": "stdout",
     "output_type": "stream",
     "text": [
      "===========================================================\n",
      "                        Solution                        \n",
      "===========================================================\n",
      "Status = optimal\n",
      "Returns = $23,873\n",
      "\n",
      "Marketing allocation:\n",
      " - Google Ads   = $2,097\n",
      " - Facebook Ads = $831\n",
      " - Tiktok Ads  = $2,072\n",
      "CPU times: user 17.4 ms, sys: 44.6 ms, total: 61.9 ms\n",
      "Wall time: 152 ms\n"
     ]
    }
   ],
   "source": [
    "%%time\n",
    "\n",
    "# Solve\n",
    "prob = cp.Problem(obj, constraint)\n",
    "prob.solve(solver='ECOS', verbose=False)\n",
    "\n",
    "# Print solution\n",
    "print('='*59 + '\\n' + ' '*24 + 'Solution' + ' '*24 + '\\n' + '='*59)\n",
    "print(f'Status = {prob.status}')\n",
    "print(f'Returns = ${round(prob.value):,}\\n')\n",
    "print('Marketing allocation:')\n",
    "print(f' - Google Ads   = ${round(google.value):,}')\n",
    "print(f' - Facebook Ads = ${round(facebook.value):,}')\n",
    "print(f' - Tiktok Ads  = ${round(tiktok.value):,}')"
   ]
  },
  {
   "cell_type": "code",
   "execution_count": null,
   "id": "6b6fe1cb",
   "metadata": {},
   "outputs": [],
   "source": []
  }
 ],
 "metadata": {
  "kernelspec": {
   "display_name": "Python 3 (ipykernel)",
   "language": "python",
   "name": "python3"
  },
  "language_info": {
   "codemirror_mode": {
    "name": "ipython",
    "version": 3
   },
   "file_extension": ".py",
   "mimetype": "text/x-python",
   "name": "python",
   "nbconvert_exporter": "python",
   "pygments_lexer": "ipython3",
   "version": "3.10.6"
  },
  "toc": {
   "base_numbering": 1,
   "nav_menu": {},
   "number_sections": true,
   "sideBar": true,
   "skip_h1_title": false,
   "title_cell": "Table of Contents",
   "title_sidebar": "Contents",
   "toc_cell": false,
   "toc_position": {},
   "toc_section_display": true,
   "toc_window_display": false
  }
 },
 "nbformat": 4,
 "nbformat_minor": 5
}
