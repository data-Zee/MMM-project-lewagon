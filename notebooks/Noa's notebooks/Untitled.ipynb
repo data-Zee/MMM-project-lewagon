{
 "cells": [
  {
   "cell_type": "code",
   "execution_count": 24,
   "id": "c05a5d0f",
   "metadata": {},
   "outputs": [],
   "source": [
    "import pandas as pd\n",
    "import cvxpy as cp\n",
    "import numpy as  np\n",
    "from mamimo.time_utils import add_time_features, PowerTrend\n",
    "from mamimo.carryover import ExponentialCarryover\n",
    "from mamimo.saturation import ExponentialSaturation\n",
    "import pandas as pd\n",
    "import numpy as np\n",
    "\n",
    "from mamimo.time_utils import add_time_features, PowerTrend\n",
    "from mamimo.carryover import ExponentialCarryover\n",
    "from mamimo.saturation import ExponentialSaturation\n",
    "\n",
    "from sklearn.model_selection import TimeSeriesSplit, GridSearchCV, RandomizedSearchCV, learning_curve\n",
    "from sklearn.preprocessing import FunctionTransformer, OneHotEncoder\n",
    "from sklearn.base import BaseEstimator, TransformerMixin, OneToOneFeatureMixin\n",
    "\n",
    "from sklearn.linear_model import LinearRegression\n",
    "from sklearn.compose import ColumnTransformer\n",
    "from sklearn.pipeline import Pipeline, FeatureUnion\n",
    "\n",
    "from sklearn.metrics import mean_squared_error\n",
    "from sklearn.metrics import mean_absolute_error\n",
    "\n",
    "import holidays\n",
    "\n",
    "import seaborn as sns\n",
    "import matplotlib.pyplot as plt\n"
   ]
  },
  {
   "cell_type": "code",
   "execution_count": 7,
   "id": "f8a04b9d",
   "metadata": {},
   "outputs": [],
   "source": [
    "\n",
    "class AddWeekendsTransformer(BaseEstimator, TransformerMixin):\n",
    "    def fit(self, X, y=None):\n",
    "        # This transformer doesn't need to learn any parameters during fitting,\n",
    "        # so we simply return self.\n",
    "        return self\n",
    "\n",
    "    def transform(self, X):\n",
    "        \"\"\"Creates a new column with row value = 1 if the day is a Friday or Saturday and 0 if not.\"\"\"\n",
    "        df = X.copy()  # Create a copy of the input DataFrame to avoid modifying it directly\n",
    "        weekday_values = df.index.weekday\n",
    "        df['fri_sat'] = ((weekday_values == 4) | (weekday_values == 5)).astype(int)\n",
    "        return df[['fri_sat']]"
   ]
  },
  {
   "cell_type": "code",
   "execution_count": 8,
   "id": "ba3eb650",
   "metadata": {},
   "outputs": [],
   "source": [
    "def minmax_fb(x):\n",
    "    scaled_fb = ((x - 0)/(2294.69 - 0))\n",
    "    return scaled_fb\n",
    "def minmax_gg(x):\n",
    "    scaled_gg = ((x - 0)/(480.66 - 0))\n",
    "    return scaled_gg\n",
    "def minmax_tt(x):\n",
    "    scaled_tt = ((x - 0)/(840.37- 0))\n",
    "    return scaled_tt\n"
   ]
  },
  {
   "cell_type": "code",
   "execution_count": 9,
   "id": "9a86042f",
   "metadata": {},
   "outputs": [],
   "source": [
    "intercept= 133.12031243\n",
    "weekend= -69.17339136\n",
    "facebook= 1236.51148254\n",
    "google= 280\n",
    "tiktok= 1782.03178883"
   ]
  },
  {
   "cell_type": "code",
   "execution_count": 12,
   "id": "77c5a332",
   "metadata": {},
   "outputs": [
    {
     "data": {
      "text/plain": [
       "0.05229464546409319"
      ]
     },
     "execution_count": 12,
     "metadata": {},
     "output_type": "execute_result"
    }
   ],
   "source": [
    "minmax_fb(120)"
   ]
  },
  {
   "cell_type": "code",
   "execution_count": 50,
   "id": "87aa8d1e",
   "metadata": {},
   "outputs": [],
   "source": [
    "def find_optimal_budget(TOTAL_DAILY_BUDGET, Date):\n",
    "    intercept= 133.12031243\n",
    "    weekend= -69.17339136\n",
    "    facebook= 1236.51148254\n",
    "    google= 280\n",
    "    tiktok= 1782.03178883\n",
    "    df=pd.DataFrame([pd.to_datetime(Date)])\n",
    "    df.set_index(0, inplace=True)\n",
    "    df['day']=Date\n",
    "    df['day']=pd.to_datetime(df['day'])\n",
    "\n",
    "    #treansforming the date df\n",
    "\n",
    "    transformed_df = AddWeekendsTransformer().fit_transform(df)\n",
    "    transformed_df.columns = ['weekends']\n",
    "\n",
    "\n",
    "    # model cvxpy\n",
    "\n",
    "    # Variables\n",
    "    facebook_var = cp.Variable(pos=True)\n",
    "    google_var   = cp.Variable(pos=True)\n",
    "    tiktok_var  = cp.Variable(pos=True)\n",
    "    breakpoint()\n",
    "\n",
    "    # Constraint\n",
    "    constraint = [google_var + facebook_var + tiktok_var <= TOTAL_DAILY_BUDGET, google_var>=TOTAL_DAILY_BUDGET*0.04769543069031596, facebook_var>=TOTAL_DAILY_BUDGET*0.16612285992471154, tiktok_var>=TOTAL_DAILY_BUDGET*0.0361817093849725]\n",
    "\n",
    "\n",
    "    # Objective\n",
    "    obj= cp.Maximize(intercept+ weekend* transformed_df['weekends'][0]+facebook *minmax_fb(facebook_var) + google *minmax_gg(google_var)+ tiktok*minmax_tt(tiktok_var))\n",
    "    # from IPython.core.debugger import Pdb; Pdb().set_trace()\n",
    "    # Solve\n",
    "    prob = cp.Problem(obj, constraint)\n",
    "    prob.solve(solver='OSQP', verbose=False)\n",
    "    # Print solution\n",
    "    status=prob.status\n",
    "    value_Total_sales=prob.value\n",
    "    value_google_spend=round(google_var.value)\n",
    "    value_facebook_spend=round(facebook_var.value)\n",
    "    value_tiktok_spend=round(tiktok_var.value)\n",
    "\n",
    "    return status, value_Total_sales, value_google_spend, value_facebook_spend, value_tiktok_spend"
   ]
  },
  {
   "cell_type": "code",
   "execution_count": 51,
   "id": "792301c7",
   "metadata": {},
   "outputs": [
    {
     "data": {
      "text/plain": [
       "('optimal', 1848.3714068540285, 48, 166, 786)"
      ]
     },
     "execution_count": 51,
     "metadata": {},
     "output_type": "execute_result"
    }
   ],
   "source": [
    "find_optimal_budget(1000, '2023-09-08')"
   ]
  },
  {
   "cell_type": "code",
   "execution_count": 38,
   "id": "33ebd6ae",
   "metadata": {},
   "outputs": [
    {
     "data": {
      "text/plain": [
       "0.20804726833936668"
      ]
     },
     "execution_count": 38,
     "metadata": {},
     "output_type": "execute_result"
    }
   ],
   "source": [
    "minmax_gg(100)"
   ]
  },
  {
   "cell_type": "code",
   "execution_count": 40,
   "id": "5c79a09f",
   "metadata": {},
   "outputs": [],
   "source": [
    "Date = '2023-09-08'"
   ]
  },
  {
   "cell_type": "code",
   "execution_count": 41,
   "id": "7c87c5e4",
   "metadata": {},
   "outputs": [],
   "source": [
    "    df=pd.DataFrame([pd.to_datetime(Date)])\n",
    "    df.set_index(0, inplace=True)\n",
    "    df['day']=Date\n",
    "    df['day']=pd.to_datetime(df['day'])\n"
   ]
  },
  {
   "cell_type": "code",
   "execution_count": 42,
   "id": "5e10ba9d",
   "metadata": {},
   "outputs": [
    {
     "data": {
      "text/html": [
       "<div>\n",
       "<style scoped>\n",
       "    .dataframe tbody tr th:only-of-type {\n",
       "        vertical-align: middle;\n",
       "    }\n",
       "\n",
       "    .dataframe tbody tr th {\n",
       "        vertical-align: top;\n",
       "    }\n",
       "\n",
       "    .dataframe thead th {\n",
       "        text-align: right;\n",
       "    }\n",
       "</style>\n",
       "<table border=\"1\" class=\"dataframe\">\n",
       "  <thead>\n",
       "    <tr style=\"text-align: right;\">\n",
       "      <th></th>\n",
       "      <th>day</th>\n",
       "    </tr>\n",
       "    <tr>\n",
       "      <th>0</th>\n",
       "      <th></th>\n",
       "    </tr>\n",
       "  </thead>\n",
       "  <tbody>\n",
       "    <tr>\n",
       "      <th>2023-09-08</th>\n",
       "      <td>2023-09-08</td>\n",
       "    </tr>\n",
       "  </tbody>\n",
       "</table>\n",
       "</div>"
      ],
      "text/plain": [
       "                  day\n",
       "0                    \n",
       "2023-09-08 2023-09-08"
      ]
     },
     "execution_count": 42,
     "metadata": {},
     "output_type": "execute_result"
    }
   ],
   "source": [
    "df"
   ]
  },
  {
   "cell_type": "code",
   "execution_count": 44,
   "id": "ab06fad1",
   "metadata": {},
   "outputs": [
    {
     "data": {
      "text/html": [
       "<div>\n",
       "<style scoped>\n",
       "    .dataframe tbody tr th:only-of-type {\n",
       "        vertical-align: middle;\n",
       "    }\n",
       "\n",
       "    .dataframe tbody tr th {\n",
       "        vertical-align: top;\n",
       "    }\n",
       "\n",
       "    .dataframe thead th {\n",
       "        text-align: right;\n",
       "    }\n",
       "</style>\n",
       "<table border=\"1\" class=\"dataframe\">\n",
       "  <thead>\n",
       "    <tr style=\"text-align: right;\">\n",
       "      <th></th>\n",
       "      <th>fri_sat</th>\n",
       "    </tr>\n",
       "    <tr>\n",
       "      <th>0</th>\n",
       "      <th></th>\n",
       "    </tr>\n",
       "  </thead>\n",
       "  <tbody>\n",
       "    <tr>\n",
       "      <th>2023-09-08</th>\n",
       "      <td>1</td>\n",
       "    </tr>\n",
       "  </tbody>\n",
       "</table>\n",
       "</div>"
      ],
      "text/plain": [
       "            fri_sat\n",
       "0                  \n",
       "2023-09-08        1"
      ]
     },
     "execution_count": 44,
     "metadata": {},
     "output_type": "execute_result"
    }
   ],
   "source": [
    "transformed_df = AddWeekendsTransformer().fit_transform(df)\n",
    "transformed_df"
   ]
  },
  {
   "cell_type": "code",
   "execution_count": 46,
   "id": "f9f134f2",
   "metadata": {},
   "outputs": [],
   "source": [
    "transformed_df.columns = ['weekends']\n",
    "\n"
   ]
  },
  {
   "cell_type": "code",
   "execution_count": 47,
   "id": "9f9ebd90",
   "metadata": {},
   "outputs": [
    {
     "data": {
      "text/html": [
       "<div>\n",
       "<style scoped>\n",
       "    .dataframe tbody tr th:only-of-type {\n",
       "        vertical-align: middle;\n",
       "    }\n",
       "\n",
       "    .dataframe tbody tr th {\n",
       "        vertical-align: top;\n",
       "    }\n",
       "\n",
       "    .dataframe thead th {\n",
       "        text-align: right;\n",
       "    }\n",
       "</style>\n",
       "<table border=\"1\" class=\"dataframe\">\n",
       "  <thead>\n",
       "    <tr style=\"text-align: right;\">\n",
       "      <th></th>\n",
       "      <th>weekends</th>\n",
       "    </tr>\n",
       "    <tr>\n",
       "      <th>0</th>\n",
       "      <th></th>\n",
       "    </tr>\n",
       "  </thead>\n",
       "  <tbody>\n",
       "    <tr>\n",
       "      <th>2023-09-08</th>\n",
       "      <td>1</td>\n",
       "    </tr>\n",
       "  </tbody>\n",
       "</table>\n",
       "</div>"
      ],
      "text/plain": [
       "            weekends\n",
       "0                   \n",
       "2023-09-08         1"
      ]
     },
     "execution_count": 47,
     "metadata": {},
     "output_type": "execute_result"
    }
   ],
   "source": [
    "transformed_df"
   ]
  },
  {
   "cell_type": "code",
   "execution_count": 66,
   "id": "312de1bc",
   "metadata": {},
   "outputs": [
    {
     "data": {
      "text/plain": [
       "1845.7671742695752"
      ]
     },
     "execution_count": 66,
     "metadata": {},
     "output_type": "execute_result"
    }
   ],
   "source": [
    "intercept+ (weekend*transformed_df['weekends'][0])+ (facebook *minmax_fb(166)) + (google *minmax_gg(44))+ (tiktok*minmax_tt(786))"
   ]
  },
  {
   "cell_type": "code",
   "execution_count": 121,
   "id": "3f3249a4",
   "metadata": {},
   "outputs": [],
   "source": [
    "def query_click_predict(date: str, facebook: float, google: float, tiktok: float):\n",
    "\n",
    "    \"\"\"\n",
    "    Returns predicted sales data from \"df\" according input data\n",
    "    \"\"\"\n",
    "    # pipeline= load_pipeline()\n",
    "\n",
    "    # creating 1 row data as input, X_pred\n",
    "    intercept, weekend, facebook, google, tiktok = (133.12031243, -69.17339136, 1236.51148254, 280, 1782.03178883)\n",
    "\n",
    "    b = np.array([intercept, weekend, facebook, google, tiktok])\n",
    "\n",
    "    date = pd.to_datetime(date)\n",
    "    weekend_date = int((date.day_of_week==4) | (date.day_of_week==5))\n",
    "\n",
    "    dict_feat = {\n",
    "        \"date\": weekend_date,\n",
    "        \"facebook\": minmax_fb(facebook),\n",
    "        \"google\": minmax_gg(google),\n",
    "        \"tiktok\": minmax_tt(tiktok)\n",
    "    }\n",
    "\n",
    "    X = np.array(list(dict_feat.values()))\n",
    "    res = b[0] + np.dot(X, b[1:])\n",
    "\n",
    "    return res"
   ]
  },
  {
   "cell_type": "code",
   "execution_count": 123,
   "id": "3dd121bf",
   "metadata": {},
   "outputs": [],
   "source": [
    "intercept, weekend, facebook, google, tiktok = (133.12031243, -69.17339136, 1236.51148254, 280, 1782.03178883)\n",
    "\n",
    "b = np.array([intercept, weekend, facebook, google, tiktok])\n"
   ]
  },
  {
   "cell_type": "code",
   "execution_count": 124,
   "id": "5eac5fe2",
   "metadata": {},
   "outputs": [
    {
     "data": {
      "text/plain": [
       "array([ 133.12031243,  -69.17339136, 1236.51148254,  280.        ,\n",
       "       1782.03178883])"
      ]
     },
     "execution_count": 124,
     "metadata": {},
     "output_type": "execute_result"
    }
   ],
   "source": [
    "b"
   ]
  },
  {
   "cell_type": "code",
   "execution_count": 122,
   "id": "664c9a0b",
   "metadata": {},
   "outputs": [
    {
     "data": {
      "text/plain": [
       "4672.215865387753"
      ]
     },
     "execution_count": 122,
     "metadata": {},
     "output_type": "execute_result"
    }
   ],
   "source": [
    "query_click_predict('2023-09-08', 166, 44, 786)"
   ]
  },
  {
   "cell_type": "code",
   "execution_count": 65,
   "id": "7a9e57d6",
   "metadata": {},
   "outputs": [
    {
     "data": {
      "text/plain": [
       "89.45038593519823"
      ]
     },
     "execution_count": 65,
     "metadata": {},
     "output_type": "execute_result"
    }
   ],
   "source": [
    "facebook *minmax_fb(166)"
   ]
  },
  {
   "cell_type": "code",
   "execution_count": 70,
   "id": "922ad4c0",
   "metadata": {},
   "outputs": [
    {
     "data": {
      "text/plain": [
       "(133.12031243, -69.17339136, 1236.51148254, 280, 1782.03178883)"
      ]
     },
     "execution_count": 70,
     "metadata": {},
     "output_type": "execute_result"
    }
   ],
   "source": [
    "intercept, weekend, facebook, google, tiktok"
   ]
  },
  {
   "cell_type": "code",
   "execution_count": 91,
   "id": "cea432be",
   "metadata": {},
   "outputs": [],
   "source": [
    "day = transformed_df['weekends'][0]\n",
    "fbcost = 166\n",
    "ggcost = 44\n",
    "ttcost = 786"
   ]
  },
  {
   "cell_type": "code",
   "execution_count": 76,
   "id": "109c27f4",
   "metadata": {},
   "outputs": [
    {
     "data": {
      "text/plain": [
       "0.07234092622532891"
      ]
     },
     "execution_count": 76,
     "metadata": {},
     "output_type": "execute_result"
    }
   ],
   "source": [
    "minmax_fb(fbcost)"
   ]
  },
  {
   "cell_type": "code",
   "execution_count": 77,
   "id": "32a41105",
   "metadata": {},
   "outputs": [
    {
     "data": {
      "text/plain": [
       "1845.7671742695752"
      ]
     },
     "execution_count": 77,
     "metadata": {},
     "output_type": "execute_result"
    }
   ],
   "source": [
    "intercept+ (weekend*transformed_df['weekends'][0])+ (facebook *minmax_fb(166)) + (google *minmax_gg(44))+ (tiktok*minmax_tt(786))"
   ]
  },
  {
   "cell_type": "code",
   "execution_count": 86,
   "id": "f4b24b63",
   "metadata": {},
   "outputs": [],
   "source": [
    "date = pd.to_datetime('2023-09-08')\n",
    "weekend_date = int((date.day_of_week==4) | (date.day_of_week==5))\n"
   ]
  },
  {
   "cell_type": "code",
   "execution_count": 102,
   "id": "1ebda3b5",
   "metadata": {},
   "outputs": [],
   "source": [
    "    dict_feat = {\n",
    "        \"date\": weekend_date,\n",
    "        \"facebook\": minmax_fb(fbcost),\n",
    "        \"google\": minmax_gg(ggcost),\n",
    "        \"tiktok\": minmax_tt(ttcost)\n",
    "    }\n"
   ]
  },
  {
   "cell_type": "code",
   "execution_count": 103,
   "id": "d522864e",
   "metadata": {},
   "outputs": [
    {
     "data": {
      "text/plain": [
       "{'date': 1,\n",
       " 'facebook': 0.07234092622532891,\n",
       " 'google': 0.09154079806932135,\n",
       " 'tiktok': 0.9353023073170151}"
      ]
     },
     "execution_count": 103,
     "metadata": {},
     "output_type": "execute_result"
    }
   ],
   "source": [
    "dict_feat"
   ]
  },
  {
   "cell_type": "code",
   "execution_count": 104,
   "id": "23907ae0",
   "metadata": {},
   "outputs": [
    {
     "name": "stdout",
     "output_type": "stream",
     "text": [
      "0.07234092622532891\n",
      "0.09154079806932135\n",
      "0.9353023073170151\n"
     ]
    }
   ],
   "source": [
    "print(minmax_fb(fbcost))\n",
    "print(minmax_gg(ggcost))\n",
    "print(minmax_tt(ttcost))"
   ]
  },
  {
   "cell_type": "code",
   "execution_count": 105,
   "id": "1cd96ae6",
   "metadata": {},
   "outputs": [
    {
     "data": {
      "text/plain": [
       "array([1.        , 0.07234093, 0.0915408 , 0.93530231])"
      ]
     },
     "execution_count": 105,
     "metadata": {},
     "output_type": "execute_result"
    }
   ],
   "source": [
    "np.array(list(dict_feat.values()))"
   ]
  },
  {
   "cell_type": "code",
   "execution_count": 112,
   "id": "1a2f600e",
   "metadata": {},
   "outputs": [
    {
     "data": {
      "text/plain": [
       "array([1.        , 0.07234093, 0.0915408 , 0.93530231])"
      ]
     },
     "execution_count": 112,
     "metadata": {},
     "output_type": "execute_result"
    }
   ],
   "source": [
    "    X=np.array(list(dict_feat.values()))\n",
    "X"
   ]
  },
  {
   "cell_type": "code",
   "execution_count": 113,
   "id": "a86b9471",
   "metadata": {},
   "outputs": [],
   "source": [
    "    b = np.array([intercept, weekend, facebook, google, tiktok])\n"
   ]
  },
  {
   "cell_type": "code",
   "execution_count": 114,
   "id": "9cf0c489",
   "metadata": {},
   "outputs": [
    {
     "data": {
      "text/plain": [
       "array([ 133.12031243,  -69.17339136, 1236.51148254,  280.        ,\n",
       "       1782.03178883])"
      ]
     },
     "execution_count": 114,
     "metadata": {},
     "output_type": "execute_result"
    }
   ],
   "source": [
    "b"
   ]
  },
  {
   "cell_type": "code",
   "execution_count": 117,
   "id": "b7253ab2",
   "metadata": {},
   "outputs": [
    {
     "data": {
      "text/plain": [
       "1845.7671742695752"
      ]
     },
     "execution_count": 117,
     "metadata": {},
     "output_type": "execute_result"
    }
   ],
   "source": [
    "np.dot(X, b[1:]) + b[0]"
   ]
  },
  {
   "cell_type": "code",
   "execution_count": 118,
   "id": "efab8bdc",
   "metadata": {},
   "outputs": [
    {
     "data": {
      "text/plain": [
       "1845.7671742695752"
      ]
     },
     "execution_count": 118,
     "metadata": {},
     "output_type": "execute_result"
    }
   ],
   "source": [
    "b[0] + np.dot(X, b[1:])"
   ]
  },
  {
   "cell_type": "code",
   "execution_count": null,
   "id": "aefd87e5",
   "metadata": {},
   "outputs": [],
   "source": []
  },
  {
   "cell_type": "code",
   "execution_count": null,
   "id": "054479a1",
   "metadata": {},
   "outputs": [],
   "source": []
  },
  {
   "cell_type": "code",
   "execution_count": 57,
   "id": "9d64472d",
   "metadata": {},
   "outputs": [],
   "source": [
    "    b = np.array([intercept, weekend, facebook, google, tiktok])"
   ]
  },
  {
   "cell_type": "code",
   "execution_count": 58,
   "id": "dcbfda5b",
   "metadata": {},
   "outputs": [
    {
     "data": {
      "text/plain": [
       "array([ 133.12031243,  -69.17339136, 1236.51148254,  280.        ,\n",
       "       1782.03178883])"
      ]
     },
     "execution_count": 58,
     "metadata": {},
     "output_type": "execute_result"
    }
   ],
   "source": [
    "day=transformed_df"
   ]
  },
  {
   "cell_type": "code",
   "execution_count": null,
   "id": "5d3274dc",
   "metadata": {},
   "outputs": [],
   "source": [
    "np.array(list(dict_feat.values()))"
   ]
  },
  {
   "cell_type": "code",
   "execution_count": 125,
   "id": "1c1e9db8",
   "metadata": {},
   "outputs": [],
   "source": [
    "def newfun(date: str, facebook: float, google: float, tiktok: float):\n",
    "    '''\n",
    "    function\n",
    "    '''\n",
    "    b = np.array([133.12031243, -69.17339136, 1236.51148254, 280, 1782.03178883])\n",
    "    date = pd.to_datetime(date)\n",
    "    weekend_date = int((date.day_of_week==4) | (date.day_of_week==5))\n",
    "\n",
    "    X = np.array([weekend_date, minmax_fb(facebook), minmax_gg(google), minmax_tt(tiktok)])\n",
    "    \n",
    "    res = b[0] + np.dot(X, b[1:])\n",
    "\n",
    "    return res  "
   ]
  },
  {
   "cell_type": "code",
   "execution_count": 126,
   "id": "57b54d91",
   "metadata": {},
   "outputs": [
    {
     "data": {
      "text/plain": [
       "1845.7671742695752"
      ]
     },
     "execution_count": 126,
     "metadata": {},
     "output_type": "execute_result"
    }
   ],
   "source": [
    "newfun('2023-09-08', 166, 44, 786)"
   ]
  },
  {
   "cell_type": "code",
   "execution_count": null,
   "id": "8d954616",
   "metadata": {},
   "outputs": [],
   "source": []
  },
  {
   "cell_type": "code",
   "execution_count": null,
   "id": "8cb7001d",
   "metadata": {},
   "outputs": [],
   "source": []
  },
  {
   "cell_type": "code",
   "execution_count": null,
   "id": "28e020d1",
   "metadata": {},
   "outputs": [],
   "source": []
  },
  {
   "cell_type": "code",
   "execution_count": null,
   "id": "fbb2d05d",
   "metadata": {},
   "outputs": [],
   "source": []
  }
 ],
 "metadata": {
  "kernelspec": {
   "display_name": "Python 3 (ipykernel)",
   "language": "python",
   "name": "python3"
  },
  "language_info": {
   "codemirror_mode": {
    "name": "ipython",
    "version": 3
   },
   "file_extension": ".py",
   "mimetype": "text/x-python",
   "name": "python",
   "nbconvert_exporter": "python",
   "pygments_lexer": "ipython3",
   "version": "3.10.6"
  },
  "toc": {
   "base_numbering": 1,
   "nav_menu": {},
   "number_sections": true,
   "sideBar": true,
   "skip_h1_title": false,
   "title_cell": "Table of Contents",
   "title_sidebar": "Contents",
   "toc_cell": false,
   "toc_position": {},
   "toc_section_display": true,
   "toc_window_display": false
  }
 },
 "nbformat": 4,
 "nbformat_minor": 5
}
